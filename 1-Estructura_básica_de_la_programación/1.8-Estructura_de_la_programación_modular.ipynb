{
 "cells": [
  {
   "cell_type": "markdown",
   "id": "6db92d3f",
   "metadata": {},
   "source": [
    "# Estructura de la programación modular\n",
    "\n",
    "## Escribir un programa en un solo archivo puede ser problemático\n",
    "\n",
    "Como hemos visto previamente, podemos definir nuestras propias funciones para ejecutar series de instrucciones específicas, modificando valores y/o variables, de ser necesario, siempre que nos parezca conveniente. Gran parte del poder de la programación yace en esta capacidad de poder crear nuestras propias funciones; sin embargo, con lo que hemos visto hasta el momento, esto también nos podría generar los siguientes problemas e inconvenientes:\n",
    "* si queremos usar algunas funciones para muchos programas distintos, tenemos que copiar y pegar las definiciones a cada uno de los archivos en que las queramos usar;\n",
    "* si, posteriormente, queremos modificar a una de las funciones en todos los programas en que la utilizamos, tenemos que modificar su definición en cada uno de los archivos en los que se define.\n",
    "\n",
    "Más aún, si queremos usar funciones que otra persona ha definido, tenemos que acceder al código fuente (esto es, si el código es abierto) y copiar y pegar las definiciones en todos los archivos en que los queramos usar.\n",
    "\n",
    "## Programación modular\n",
    "\n",
    "Todos los problemas mencionados anteriormente se podrían resolver si todas las funciones pudieran definirse en **un sólo archivo** (de código abierto), que pudiéramos _cargar_ en cada uno de los programas que las requieran. Afortunadamente, ¡esto es posible!\n",
    "\n",
    "Lo anterior es un ejemplo de **programación modular** donde, _en vez de escribir todo un programa_ (que puede tener una longitud y complejidad arbitraria) _en un solo archivo_, _lo separamos en varios archivos diferentes_ y, cada vez que el código escrito en un archivo $a$ se requiera en un archivo $b$, podamos dar la instrucción de que se ejecute el código del archivo $a$ con algún comando en el archivo $b$."
   ]
  },
  {
   "cell_type": "markdown",
   "id": "87a151cc",
   "metadata": {},
   "source": [
    "### `include`\n",
    "\n",
    "En Julia, la función `include` sirve para ejecutar el código de otro archivo dentro del archivo donde se utilice esta función. Por ejemplo, para ejecutar el código (de Julia) de un archivo `a.jl` en otro archivo `b.jl`, escribiríamos el comando\n",
    "\n",
    "```include(\"a.jl\")```\n",
    "\n",
    "en alguna línea del archivo `b.jl`. En esencia, esto es equivalente a reemplazar la línea anterior del archivo `b.jl` con todo el contenido del archivo `a.jl`.\n",
    "\n",
    "Algunas consideraciones importantes al usar `include` son las siguientes.\n",
    "1. Como estamos trabajando en el paradigma imperativo, el código se ejecuta línea por línea de arriba hacia abajo.\n",
    "1. Si escribimos el comando `include(\"a.jl\")` varias veces en un archivo, entonces todos los contenidos de `a.jl` se ejecutarán cada vez que aparezca `include(\"a.jl\")` en el código.\n",
    "1. Si argumento de `include` no incluye una dirección absoluta, se interpreta en relación a la dirección del archivo donde se utiliza esta función; es decir si, por ejemplo, `b.jl` está en la carpeta `~/MisArchivos/` (y, por ende, su dirección absoluta es `~/MisArchivos/b.jl`), entonces el comando `include(\"a.jl\")` en `b.jl` intentará ejecutar el archivo `~/MisArchivos/a.jl`.\n",
    "\n",
    "No tener presentes las observaciones anteriores podría traernos problemas. Por ejemplo, supongamos que en `a.jl` se definen variables y/o funciones. Si alguna de ellas se utiliza en el código `b.jl` _antes_ del comando `include(\"a.jl\")` entonces, por 1, obtendremos un error de que aún no ha sido definida. Por otro lado, si usamos `include(\"a.jl\")` varias veces entonces, por 2, a las variables definidas en `a.jl` se les volverá a asignar el valor que tienen en ese archivo en cada línea donde se ejecute `include(\"a.jl\")`, lo cual puede no ser deseable. Más aún, si se incluye el código de dos archivos `a.jl` y `c.jl` en un archivo `b.jl`, entonces los códigos de los tres archivos deben ser compatibles, es decir, que no se utilicen los mismos nombres para variables (o funciones) que tengan asignaciones (o definiciones) diferentes."
   ]
  },
  {
   "cell_type": "markdown",
   "id": "c3170925",
   "metadata": {},
   "source": [
    "Algunos usos de la programación modular son los siguientes.\n",
    "* Definir todas las constantes que se utilicen en un programa en un solo archivo.\n",
    "* Definir funciones que cumplan un objetivo específico y puedan ser utilizadas en una gran variedad de programas diferentes."
   ]
  },
  {
   "cell_type": "markdown",
   "id": "68b00038",
   "metadata": {},
   "source": [
    "## Módulos\n",
    "\n",
    "Una forma de hacer programación modular en Julia más sofisticada que usar `include` es usando **módulos**. Los módulos nos permiten organizar un código en unidades coherentes e independientes. Algunas de las ventajas de usar módulos incluyen:\n",
    "* poder incluir partes del código de un módulo _selectivamente_, es decir, sin necesidad de incluir _todo_ el código del módulo;\n",
    "* los módulos pueden ser _precompilados_ (es decir, convertidos a lenguaje de máquina) de antemano, ahorrándonos tiempo.\n",
    "\n",
    "### Creando módulos\n",
    "\n",
    "Para crear un módulo, utilizamos una sintáxis como la siguiente:"
   ]
  },
  {
   "cell_type": "code",
   "execution_count": 1,
   "id": "29b8c1b4",
   "metadata": {},
   "outputs": [
    {
     "data": {
      "text/plain": [
       "Main.MiMódulo"
      ]
     },
     "execution_count": 1,
     "metadata": {},
     "output_type": "execute_result"
    }
   ],
   "source": [
    "module MiMódulo                           # Iniciamos el módulo.\n",
    "\n",
    "export miFunción1, miFunción2             # Especificamos qué cosas definidas\n",
    "                                          # dentro del módulo podrán ser\n",
    "                                          # importadas en otros archivos.\n",
    "\n",
    "    function miFunción1()                 # Definimos las cosas que exporta-\n",
    "                                          # remos.\n",
    "    \n",
    "        print(\"Acabas de llamar a miFunción1.\")\n",
    "\n",
    "    end\n",
    "\n",
    "    function miFunción2()\n",
    "\n",
    "        print(\"Acabas de llamar a miFunción2.\")\n",
    "\n",
    "    end\n",
    "\n",
    "    function miFunción3()\n",
    "\n",
    "        print(\"Acabas de llamar a miFunción3.\")\n",
    "\n",
    "    end\n",
    "\n",
    "end                                        # Finalizamos el módulo."
   ]
  },
  {
   "cell_type": "markdown",
   "id": "6cef54ed",
   "metadata": {},
   "source": [
    "Notamos que la declaración `module`, que inicia un bloque de código que Julia convertirá en un módulo y declara el nombre del módulo, va al inicio del archivo. Por conveniencia, justo después viene la declaración `export`, donde se nombran todas las variables, funciones, etcétera que queremos que puedan ser importadas en otros archivos, antes de que éstas sean definidas.\n",
    "\n",
    "Generalmente, los módulos se definen en un solo archivo.\n",
    "\n",
    "### Cargando módulos\n",
    "\n",
    "#### `using`\n",
    "\n",
    "Una forma de cargar todos los contenidos de un módulo es utilizando la sintáxis `using NombreDelMódulo`. Por ejemplo, en el _notebook_ [`1.7-Ciclos.ipynb`](./1.7-Ciclos.ipynb), importamos todos los contenidos del módulo [`ThinkJulia`](https://github.com/BenLauwens/ThinkJulia.jl/blob/master/src/ThinkJulia.jl) con el siguiente comando:"
   ]
  },
  {
   "cell_type": "code",
   "execution_count": 2,
   "id": "164e7523",
   "metadata": {},
   "outputs": [
    {
     "name": "stderr",
     "output_type": "stream",
     "text": [
      "\u001b[36m\u001b[1m[ \u001b[22m\u001b[39m\u001b[36m\u001b[1mInfo: \u001b[22m\u001b[39mPrecompiling ThinkJulia [a7f2b756-c18b-4c7f-87da-faca9ac81b29]\n",
      "\u001b[36m\u001b[1m[ \u001b[22m\u001b[39m\u001b[36m\u001b[1mInfo: \u001b[22m\u001b[39mSkipping precompilation since __precompile__(false). Importing ThinkJulia [a7f2b756-c18b-4c7f-87da-faca9ac81b29].\n"
     ]
    },
    {
     "ename": "LoadError",
     "evalue": "LoadError: ThinkJulia not installed properly, run Pkg.build(\"ThinkJulia\"), restart Julia and try again\nin expression starting at C:\\Users\\misae\\.julia\\packages\\ThinkJulia\\REhsz\\src\\ThinkJulia.jl:1",
     "output_type": "error",
     "traceback": [
      "LoadError: ThinkJulia not installed properly, run Pkg.build(\"ThinkJulia\"), restart Julia and try again\nin expression starting at C:\\Users\\misae\\.julia\\packages\\ThinkJulia\\REhsz\\src\\ThinkJulia.jl:1",
      "",
      "Stacktrace:",
      " [1] error(s::String)",
      "   @ Base .\\error.jl:35",
      " [2] top-level scope",
      "   @ C:\\Users\\misae\\.julia\\packages\\ThinkJulia\\REhsz\\src\\ThinkJulia.jl:15",
      " [3] include",
      "   @ .\\Base.jl:419 [inlined]",
      " [4] _require(pkg::Base.PkgId)",
      "   @ Base .\\loading.jl:1367",
      " [5] _require_prelocked(uuidkey::Base.PkgId)",
      "   @ Base .\\loading.jl:1200",
      " [6] macro expansion",
      "   @ .\\loading.jl:1180 [inlined]",
      " [7] macro expansion",
      "   @ .\\lock.jl:223 [inlined]",
      " [8] require(into::Module, mod::Symbol)",
      "   @ Base .\\loading.jl:1144"
     ]
    }
   ],
   "source": [
    "using ThinkJulia"
   ]
  },
  {
   "cell_type": "markdown",
   "id": "5aa749b5",
   "metadata": {},
   "source": [
    "Después de haber ejecutado este comando, podremos llamar a todos los nombres que aparecen en la declaración `export` del módulo correspondiente sin problema alguno. Un ejemplo con el módulo que definimos anteriormente es:"
   ]
  },
  {
   "cell_type": "code",
   "execution_count": 3,
   "id": "1b56e5e1",
   "metadata": {},
   "outputs": [],
   "source": [
    "using Main.MiMódulo # Importamos el módulo que definimos anteriormente"
   ]
  },
  {
   "cell_type": "code",
   "execution_count": 4,
   "id": "a66c7fef",
   "metadata": {},
   "outputs": [
    {
     "name": "stdout",
     "output_type": "stream",
     "text": [
      "Acabas de llamar a miFunción2."
     ]
    }
   ],
   "source": [
    "miFunción2() # Lo que enlistamos en la declaración `export` funciona bien"
   ]
  },
  {
   "cell_type": "code",
   "execution_count": 5,
   "id": "d07e8957",
   "metadata": {},
   "outputs": [
    {
     "ename": "LoadError",
     "evalue": "UndefVarError: miFunción3 not defined",
     "output_type": "error",
     "traceback": [
      "UndefVarError: miFunción3 not defined",
      "",
      "Stacktrace:",
      " [1] top-level scope",
      "   @ In[5]:1"
     ]
    }
   ],
   "source": [
    "miFunción3() # No funciona porque no lo incluimos en la declaración `export`"
   ]
  },
  {
   "cell_type": "markdown",
   "id": "4540fd3f",
   "metadata": {},
   "source": [
    "Si algo se definió dentro del módulo `NombreDelMódulo` pero no se incluyó su nombre en la declaración `export`, podemos llamarlo si lo precedemos de la sintáxis `NombreDelMódulo.`:"
   ]
  },
  {
   "cell_type": "code",
   "execution_count": 6,
   "id": "64d26639",
   "metadata": {
    "scrolled": true
   },
   "outputs": [
    {
     "name": "stdout",
     "output_type": "stream",
     "text": [
      "Acabas de llamar a miFunción3."
     ]
    }
   ],
   "source": [
    "Main.MiMódulo.miFunción3()"
   ]
  },
  {
   "cell_type": "markdown",
   "id": "9787eaf2",
   "metadata": {},
   "source": [
    "Podemos cargar varios módulos con un solo comando `using` separando sus nombres con una coma, es decir, como en `using Módulo1, Módulo2, Módulo3`.\n",
    "\n",
    "Si sólo queremos cargar algunos de los contenidos de un módulo a nuestro código, podemos utilizar la sintáxis `using NombreDelMódulo: Nombre1, Nombre2, Nombre3`. De esta manera, no tenemos que cargar _todo_ el módulo, sino sólo las partes que utilizaremos.\n",
    "\n",
    "A veces resulta deseable cargar un módulo con un nombre distinto al original. Para esto podemos utilizar la _keyword_ `as` como en `using NombreDelMódulo as Mod`. Esto cargará los contenidos del módulo `NombreDelMódulo`, pero todo lo que no haya sido enlistado en la declaración `export` podrá ser llamado con el prefijo `Mod.` _en vez de_ `NombreDelMódulo.`."
   ]
  },
  {
   "cell_type": "markdown",
   "id": "f5427325",
   "metadata": {},
   "source": [
    "#### `import`\n",
    "\n",
    "También se pueden cargar los contenidos de un módulo con la sintáxis `import NombreDelMódulo`. Sin embargo, este comando ignorará la declaración `export` del módulo `NombreDelMódulo`, por lo que tendremos que escribir `NombreDelMódulo.` antes de cualquier nombre que haya sido definido en ese módulo para poder usarlo.\n",
    "\n",
    "**Nota** Otro término muy común utilizado en programación para referirse a un bloque de código reutilizable "
   ]
  },
  {
   "cell_type": "markdown",
   "id": "26c9d86f",
   "metadata": {},
   "source": [
    "## Paquetes\n",
    "\n",
    "Para poder compartir nuestros módulos con otras personas de manera sencilla, podemos usarlos para formar **paquetes**. A grosso modo, un _paquete_ de Julia es un módulo con toda la estructura necesaria para que pueda ser _instalado_ en una computadora.\n",
    "\n",
    "### `Pkg`\n",
    "\n",
    "En Julia, los paquetes se instalan, actualizan y desinstalan utilizando el administrador de paquetes `Pkg`. Para entrar al modo de administración de paquetes en un REPL de Julia, basta con presionar la tecla `]`; ¡esto es justo lo que te pedimos hacer en las [instrucciones para instalar IJulia y Pluto del repositorio del curso](https://github.com/dabnciencias/AC/)! Una vez que Julia está en modo de administración de paquetes -y el _prompt_ de la terminal haya cambiado a algo como `pkg>`-, la sintáxis para instalar, actualizar y desinstalar paquetes es\n",
    "* `add Paquete`,\n",
    "* `update Paquete`, y\n",
    "* `rm Paquete`,\n",
    "\n",
    "respectivamente. Como Jupyter no es propiamente un REPL, tendremos que escribir `] ` (con un espacio) antes de los comandos anteriores para que Julia sepa que debe entrar al modo de administración de paquetes primero: "
   ]
  },
  {
   "cell_type": "code",
   "execution_count": 7,
   "id": "41f8c7f2",
   "metadata": {},
   "outputs": [
    {
     "name": "stderr",
     "output_type": "stream",
     "text": [
      "\u001b[32m\u001b[1m    Updating\u001b[22m\u001b[39m registry at `C:\\Users\\misae\\.julia\\registries\\General.toml`\n",
      "\u001b[32m\u001b[1m   Resolving\u001b[22m\u001b[39m package versions...\n",
      "\u001b[32m\u001b[1m    Updating\u001b[22m\u001b[39m `C:\\Users\\misae\\.julia\\environments\\v1.8\\Project.toml`\n",
      " \u001b[90m [37e2e46d] \u001b[39m\u001b[92m+ LinearAlgebra\u001b[39m\n",
      "\u001b[32m\u001b[1m  No Changes\u001b[22m\u001b[39m to `C:\\Users\\misae\\.julia\\environments\\v1.8\\Manifest.toml`\n"
     ]
    }
   ],
   "source": [
    "] add LinearAlgebra"
   ]
  },
  {
   "cell_type": "code",
   "execution_count": 8,
   "id": "ab04ae07",
   "metadata": {},
   "outputs": [
    {
     "name": "stderr",
     "output_type": "stream",
     "text": [
      "\u001b[32m\u001b[1m    Updating\u001b[22m\u001b[39m registry at `C:\\Users\\misae\\.julia\\registries\\General.toml`\n",
      "\u001b[32m\u001b[1m   Installed\u001b[22m\u001b[39m Parsers ─ v2.5.4\n",
      "\u001b[32m\u001b[1m  No Changes\u001b[22m\u001b[39m to `C:\\Users\\misae\\.julia\\environments\\v1.8\\Project.toml`\n",
      "\u001b[32m\u001b[1m    Updating\u001b[22m\u001b[39m `C:\\Users\\misae\\.julia\\environments\\v1.8\\Manifest.toml`\n",
      " \u001b[90m [69de0a69] \u001b[39m\u001b[93m↑ Parsers v2.5.3 ⇒ v2.5.4\u001b[39m\n",
      "\u001b[32m\u001b[1mPrecompiling\u001b[22m\u001b[39m project...\n",
      "\u001b[33m  ✓ \u001b[39m\u001b[90mParsers\u001b[39m\n",
      "\u001b[33m  ✓ \u001b[39m\u001b[90mJSON\u001b[39m\n",
      "\u001b[33m  ✓ \u001b[39m\u001b[90mConda\u001b[39m\n",
      "\u001b[33m  ✓ \u001b[39mIJulia\n",
      "\u001b[33m  ✓ \u001b[39m\u001b[90mPlots\u001b[39m\n",
      "  5 dependencies successfully precompiled in 80 seconds. 120 already precompiled. 2 skipped during auto due to previous errors.\n",
      "  \u001b[33m5\u001b[39m dependencies precompiled but different versions are currently loaded. Restart julia to access the new versions\n",
      "\u001b[36m\u001b[1m[ \u001b[22m\u001b[39m\u001b[36m\u001b[1mInfo: \u001b[22m\u001b[39mWe haven't cleaned this depot up for a bit, running Pkg.gc()...\n",
      "\u001b[32m\u001b[1m      Active\u001b[22m\u001b[39m manifest files: 1 found\n",
      "\u001b[32m\u001b[1m      Active\u001b[22m\u001b[39m artifact files: 52 found\n",
      "\u001b[32m\u001b[1m      Active\u001b[22m\u001b[39m scratchspaces: 5 found\n",
      "\u001b[32m\u001b[1m     Deleted\u001b[22m\u001b[39m no artifacts, repos, packages or scratchspaces\n"
     ]
    }
   ],
   "source": [
    "] update LinearAlgebra"
   ]
  },
  {
   "cell_type": "code",
   "execution_count": 9,
   "id": "d5ae3011",
   "metadata": {},
   "outputs": [
    {
     "name": "stderr",
     "output_type": "stream",
     "text": [
      "\u001b[32m\u001b[1m    Updating\u001b[22m\u001b[39m `C:\\Users\\misae\\.julia\\environments\\v1.8\\Project.toml`\n",
      " \u001b[90m [a7f2b756] \u001b[39m\u001b[91m- ThinkJulia v0.0.0 `https://github.com/BenLauwens/ThinkJulia.jl#master`\u001b[39m\n",
      "\u001b[32m\u001b[1m    Updating\u001b[22m\u001b[39m `C:\\Users\\misae\\.julia\\environments\\v1.8\\Manifest.toml`\n",
      " \u001b[90m [621f4979] \u001b[39m\u001b[91m- AbstractFFTs v1.2.1\u001b[39m\n",
      " \u001b[90m [79e6a3ab] \u001b[39m\u001b[91m- Adapt v3.5.0\u001b[39m\n",
      " \u001b[90m [b99e7846] \u001b[39m\u001b[91m- BinaryProvider v0.5.10\u001b[39m\n",
      " \u001b[90m [159f3aea] \u001b[39m\u001b[91m- Cairo v1.0.5\u001b[39m\n",
      " \u001b[90m [d360d2e6] \u001b[39m\u001b[91m- ChainRulesCore v1.15.7\u001b[39m\n",
      " \u001b[90m [9e997f8a] \u001b[39m\u001b[91m- ChangesOfVariables v0.1.5\u001b[39m\n",
      " \u001b[90m [3da002f7] \u001b[39m\u001b[91m- ColorTypes v0.9.1\u001b[39m\n",
      " \u001b[90m [c3611d14] \u001b[39m\u001b[91m- ColorVectorSpace v0.8.7\u001b[39m\n",
      " \u001b[90m [5ae59095] \u001b[39m\u001b[91m- Colors v0.11.2\u001b[39m\n",
      " \u001b[90m [34da2185] \u001b[39m\u001b[91m- Compat v4.6.0\u001b[39m\n",
      " \u001b[90m [d38c429a] \u001b[39m\u001b[91m- Contour v0.5.7\u001b[39m\n",
      " \u001b[90m [9a962f9c] \u001b[39m\u001b[91m- DataAPI v1.14.0\u001b[39m\n",
      " \u001b[90m [864edb3b] \u001b[39m\u001b[91m- DataStructures v0.18.13\u001b[39m\n",
      " \u001b[90m [ffbed154] \u001b[39m\u001b[91m- DocStringExtensions v0.9.3\u001b[39m\n",
      " \u001b[90m [c87230d0] \u001b[39m\u001b[91m- FFMPEG v0.3.0\u001b[39m\n",
      " \u001b[90m [5789e2e9] \u001b[39m\u001b[91m- FileIO v1.16.0\u001b[39m\n",
      " \u001b[90m [53c48c17] \u001b[39m\u001b[91m- FixedPointNumbers v0.7.1\u001b[39m\n",
      " \u001b[90m [28b8d3ca] \u001b[39m\u001b[91m- GR v0.48.0\u001b[39m\n",
      " \u001b[90m [4d00f742] \u001b[39m\u001b[91m- GeometryTypes v0.8.5\u001b[39m\n",
      " \u001b[90m [a2bd30eb] \u001b[39m\u001b[91m- Graphics v1.1.2\u001b[39m\n",
      " \u001b[90m [42e2da0e] \u001b[39m\u001b[91m- Grisu v1.0.2\u001b[39m\n",
      " \u001b[90m [a09fc81d] \u001b[39m\u001b[91m- ImageCore v0.8.22\u001b[39m\n",
      " \u001b[90m [6218d12a] \u001b[39m\u001b[91m- ImageMagick v0.7.9\u001b[39m\n",
      " \u001b[90m [3587e190] \u001b[39m\u001b[91m- InverseFunctions v0.1.8\u001b[39m\n",
      " \u001b[90m [92d709cd] \u001b[39m\u001b[91m- IrrationalConstants v0.1.1\u001b[39m\n",
      " \u001b[90m [e5e0dc1b] \u001b[39m\u001b[91m- Juno v0.8.4\u001b[39m\n",
      " \u001b[90m [b964fa9f] \u001b[39m\u001b[91m- LaTeXStrings v1.3.0\u001b[39m\n",
      " \u001b[90m [2ab3a3ac] \u001b[39m\u001b[91m- LogExpFunctions v0.3.20\u001b[39m\n",
      " \u001b[90m [ae8d54c2] \u001b[39m\u001b[91m- Luxor v1.12.0\u001b[39m\n",
      " \u001b[90m [1914dd2f] \u001b[39m\u001b[91m- MacroTools v0.5.10\u001b[39m\n",
      " \u001b[90m [dbb5928d] \u001b[39m\u001b[91m- MappedArrays v0.4.1\u001b[39m\n",
      " \u001b[90m [442fdcdd] \u001b[39m\u001b[91m- Measures v0.3.2\u001b[39m\n",
      " \u001b[90m [e89f7d12] \u001b[39m\u001b[91m- Media v0.5.0\u001b[39m\n",
      " \u001b[90m [e1d29d7a] \u001b[39m\u001b[91m- Missings v1.1.0\u001b[39m\n",
      " \u001b[90m [e94cdb99] \u001b[39m\u001b[91m- MosaicViews v0.3.4\u001b[39m\n",
      " \u001b[90m [77ba4419] \u001b[39m\u001b[91m- NaNMath v0.3.7\u001b[39m\n",
      " \u001b[90m [6fe1bfb0] \u001b[39m\u001b[91m- OffsetArrays v1.12.9\u001b[39m\n",
      " \u001b[90m [bac558e1] \u001b[39m\u001b[91m- OrderedCollections v1.4.1\u001b[39m\n",
      " \u001b[90m [5432bcbf] \u001b[39m\u001b[91m- PaddedViews v0.5.11\u001b[39m\n",
      " \u001b[90m [ccf2f8ad] \u001b[39m\u001b[91m- PlotThemes v1.0.3\u001b[39m\n",
      " \u001b[90m [995b91a9] \u001b[39m\u001b[91m- PlotUtils v0.6.5\u001b[39m\n",
      " \u001b[90m [91a5bcdd] \u001b[39m\u001b[91m- Plots v1.0.14\u001b[39m\n",
      " \u001b[90m [dca85d43] \u001b[39m\u001b[91m- QuartzImageIO v0.6.0\u001b[39m\n",
      " \u001b[90m [3cdcf5f2] \u001b[39m\u001b[91m- RecipesBase v1.3.3\u001b[39m\n",
      " \u001b[90m [01d81517] \u001b[39m\u001b[91m- RecipesPipeline v0.1.13\u001b[39m\n",
      " \u001b[90m [189a3867] \u001b[39m\u001b[91m- Reexport v0.2.0\u001b[39m\n",
      " \u001b[90m [ae029012] \u001b[39m\u001b[91m- Requires v1.3.0\u001b[39m\n",
      " \u001b[90m [992d4aef] \u001b[39m\u001b[91m- Showoff v0.3.2\u001b[39m\n",
      " \u001b[90m [a2af1166] \u001b[39m\u001b[91m- SortingAlgorithms v1.1.0\u001b[39m\n",
      " \u001b[90m [276daf66] \u001b[39m\u001b[91m- SpecialFunctions v1.8.7\u001b[39m\n",
      " \u001b[90m [cae243ae] \u001b[39m\u001b[91m- StackViews v0.1.1\u001b[39m\n",
      " \u001b[90m [90137ffa] \u001b[39m\u001b[91m- StaticArrays v1.5.12\u001b[39m\n",
      " \u001b[90m [1e83bf80] \u001b[39m\u001b[91m- StaticArraysCore v1.4.0\u001b[39m\n",
      " \u001b[90m [82ae8749] \u001b[39m\u001b[91m- StatsAPI v1.5.0\u001b[39m\n",
      " \u001b[90m [2913bbd2] \u001b[39m\u001b[91m- StatsBase v0.33.21\u001b[39m\n",
      " \u001b[90m [9ac5f52a] \u001b[39m\u001b[91m- Tectonic v0.8.0\u001b[39m\n",
      " \u001b[90m [a7f2b756] \u001b[39m\u001b[91m- ThinkJulia v0.0.0 `https://github.com/BenLauwens/ThinkJulia.jl#master`\u001b[39m\n",
      " \u001b[90m [37f6aa50] \u001b[39m\u001b[91m- TikzPictures v3.4.2\u001b[39m\n",
      " \u001b[90m [6e34b625] \u001b[39m\u001b[91m- Bzip2_jll v1.0.8+0\u001b[39m\n",
      " \u001b[90m [83423d85] \u001b[39m\u001b[91m- Cairo_jll v1.16.1+1\u001b[39m\n",
      " \u001b[90m [2e619515] \u001b[39m\u001b[91m- Expat_jll v2.4.8+0\u001b[39m\n",
      " \u001b[90m [b22a6f82] \u001b[39m\u001b[91m- FFMPEG_jll v4.4.2+2\u001b[39m\n",
      " \u001b[90m [a3f928ae] \u001b[39m\u001b[91m- Fontconfig_jll v2.13.93+0\u001b[39m\n",
      " \u001b[90m [d7e528f0] \u001b[39m\u001b[91m- FreeType2_jll v2.10.4+0\u001b[39m\n",
      " \u001b[90m [559328eb] \u001b[39m\u001b[91m- FriBidi_jll v1.0.10+0\u001b[39m\n",
      " \u001b[90m [78b55507] \u001b[39m\u001b[91m- Gettext_jll v0.21.0+0\u001b[39m\n",
      " \u001b[90m [7746bdde] \u001b[39m\u001b[91m- Glib_jll v2.74.0+2\u001b[39m\n",
      " \u001b[90m [3b182d85] \u001b[39m\u001b[91m- Graphite2_jll v1.3.14+0\u001b[39m\n",
      " \u001b[90m [2e76f6c2] \u001b[39m\u001b[91m- HarfBuzz_jll v2.8.1+1\u001b[39m\n",
      " \u001b[90m [aacddb02] \u001b[39m\u001b[91m- JpegTurbo_jll v2.1.2+0\u001b[39m\n",
      " \u001b[90m [c1c5ebd0] \u001b[39m\u001b[91m- LAME_jll v3.100.1+0\u001b[39m\n",
      " \u001b[90m [88015f11] \u001b[39m\u001b[91m- LERC_jll v3.0.0+1\u001b[39m\n",
      " \u001b[90m [dd4b983a] \u001b[39m\u001b[91m- LZO_jll v2.10.1+0\u001b[39m\n",
      " \u001b[90m [e9f186c6] \u001b[39m\u001b[91m- Libffi_jll v3.2.2+1\u001b[39m\n",
      " \u001b[90m [d4300ac3] \u001b[39m\u001b[91m- Libgcrypt_jll v1.8.7+0\u001b[39m\n",
      " \u001b[90m [7add5ba3] \u001b[39m\u001b[91m- Libgpg_error_jll v1.42.0+0\u001b[39m\n",
      " \u001b[90m [94ce4f54] \u001b[39m\u001b[91m- Libiconv_jll v1.16.1+2\u001b[39m\n",
      " \u001b[90m [4b2f31a3] \u001b[39m\u001b[91m- Libmount_jll v2.35.0+0\u001b[39m\n",
      " \u001b[90m [89763e89] \u001b[39m\u001b[91m- Libtiff_jll v4.4.0+0\u001b[39m\n",
      " \u001b[90m [38a345b3] \u001b[39m\u001b[91m- Libuuid_jll v2.36.0+0\u001b[39m\n",
      " \u001b[90m [d3a379c0] \u001b[39m\u001b[91m- LittleCMS_jll v2.12.0+0\u001b[39m\n",
      " \u001b[90m [e7412a2a] \u001b[39m\u001b[91m- Ogg_jll v1.3.5+1\u001b[39m\n",
      " \u001b[90m [643b3616] \u001b[39m\u001b[91m- OpenJpeg_jll v2.4.0+0\u001b[39m\n",
      " \u001b[90m [458c3c95] \u001b[39m\u001b[91m- OpenSSL_jll v1.1.19+0\u001b[39m\n",
      " \u001b[90m [efe28fd5] \u001b[39m\u001b[91m- OpenSpecFun_jll v0.5.5+0\u001b[39m\n",
      " \u001b[90m [91d4177d] \u001b[39m\u001b[91m- Opus_jll v1.3.2+0\u001b[39m\n",
      " \u001b[90m [36c8627f] \u001b[39m\u001b[91m- Pango_jll v1.50.9+0\u001b[39m\n",
      " \u001b[90m [30392449] \u001b[39m\u001b[91m- Pixman_jll v0.40.1+0\u001b[39m\n",
      " \u001b[90m [9c32591e] \u001b[39m\u001b[91m- Poppler_jll v0.87.0+2\u001b[39m\n",
      " \u001b[90m [02c8fc9c] \u001b[39m\u001b[91m- XML2_jll v2.10.3+0\u001b[39m\n",
      " \u001b[90m [aed1982a] \u001b[39m\u001b[91m- XSLT_jll v1.1.34+0\u001b[39m\n",
      " \u001b[90m [4f6342f7] \u001b[39m\u001b[91m- Xorg_libX11_jll v1.6.9+4\u001b[39m\n",
      " \u001b[90m [0c0b7dd1] \u001b[39m\u001b[91m- Xorg_libXau_jll v1.0.9+4\u001b[39m\n",
      " \u001b[90m [a3789734] \u001b[39m\u001b[91m- Xorg_libXdmcp_jll v1.1.3+4\u001b[39m\n",
      " \u001b[90m [1082639a] \u001b[39m\u001b[91m- Xorg_libXext_jll v1.3.4+4\u001b[39m\n",
      " \u001b[90m [ea2f1a96] \u001b[39m\u001b[91m- Xorg_libXrender_jll v0.9.10+4\u001b[39m\n",
      " \u001b[90m [14d82f49] \u001b[39m\u001b[91m- Xorg_libpthread_stubs_jll v0.1.0+3\u001b[39m\n",
      " \u001b[90m [c7cfdc94] \u001b[39m\u001b[91m- Xorg_libxcb_jll v1.13.0+3\u001b[39m\n",
      " \u001b[90m [c5fb5394] \u001b[39m\u001b[91m- Xorg_xtrans_jll v1.4.0+3\u001b[39m\n",
      " \u001b[90m [3161d3a3] \u001b[39m\u001b[91m- Zstd_jll v1.5.2+0\u001b[39m\n",
      " \u001b[90m [a4ae2306] \u001b[39m\u001b[91m- libaom_jll v3.4.0+0\u001b[39m\n",
      " \u001b[90m [0ac62f75] \u001b[39m\u001b[91m- libass_jll v0.15.1+0\u001b[39m\n",
      " \u001b[90m [f638f0a6] \u001b[39m\u001b[91m- libfdk_aac_jll v2.0.2+0\u001b[39m\n",
      " \u001b[90m [b53b4c65] \u001b[39m\u001b[91m- libpng_jll v1.6.38+0\u001b[39m\n",
      " \u001b[90m [f27f6e37] \u001b[39m\u001b[91m- libvorbis_jll v1.3.7+1\u001b[39m\n",
      " \u001b[90m [1270edf5] \u001b[39m\u001b[91m- x264_jll v2021.5.5+0\u001b[39m\n",
      " \u001b[90m [dfaa095f] \u001b[39m\u001b[91m- x265_jll v3.5.0+0\u001b[39m\n",
      " \u001b[90m [8bb1440f] \u001b[39m\u001b[91m- DelimitedFiles\u001b[39m\n",
      " \u001b[90m [9abbd945] \u001b[39m\u001b[91m- Profile\u001b[39m\n",
      " \u001b[90m [2f01184e] \u001b[39m\u001b[91m- SparseArrays\u001b[39m\n",
      " \u001b[90m [10745b16] \u001b[39m\u001b[91m- Statistics\u001b[39m\n",
      " \u001b[90m [05823500] \u001b[39m\u001b[91m- OpenLibm_jll v0.8.1+0\u001b[39m\n",
      " \u001b[90m [efcefdf7] \u001b[39m\u001b[91m- PCRE2_jll v10.40.0+0\u001b[39m\n"
     ]
    }
   ],
   "source": [
    "] rm ThinkJulia"
   ]
  },
  {
   "cell_type": "markdown",
   "id": "23db39c0",
   "metadata": {},
   "source": [
    "¡Oh, no, acabamos de desinstalar el paquete ThinkJulia con el que dibujábamos con tortuguitas! Rápido, ¡reinstalémoslo!"
   ]
  },
  {
   "cell_type": "code",
   "execution_count": 10,
   "id": "9d608703",
   "metadata": {},
   "outputs": [
    {
     "ename": "LoadError",
     "evalue": "The following package names could not be resolved:\n * ThinkJulia (not found in project, manifest or registry)",
     "output_type": "error",
     "traceback": [
      "The following package names could not be resolved:\n * ThinkJulia (not found in project, manifest or registry)",
      "",
      "Stacktrace:",
      " [1] pkgerror(msg::String)",
      "   @ Pkg.Types C:\\Users\\misae\\AppData\\Local\\Programs\\Julia-1.8.5\\share\\julia\\stdlib\\v1.8\\Pkg\\src\\Types.jl:67",
      " [2] ensure_resolved(ctx::Pkg.Types.Context, manifest::Pkg.Types.Manifest, pkgs::Vector{Pkg.Types.PackageSpec}; registry::Bool)",
      "   @ Pkg.Types C:\\Users\\misae\\AppData\\Local\\Programs\\Julia-1.8.5\\share\\julia\\stdlib\\v1.8\\Pkg\\src\\Types.jl:952",
      " [3] add(ctx::Pkg.Types.Context, pkgs::Vector{Pkg.Types.PackageSpec}; preserve::Pkg.Types.PreserveLevel, platform::Base.BinaryPlatforms.Platform, kwargs::Base.Pairs{Symbol, IJulia.IJuliaStdio{Base.PipeEndpoint}, Tuple{Symbol}, NamedTuple{(:io,), Tuple{IJulia.IJuliaStdio{Base.PipeEndpoint}}}})",
      "   @ Pkg.API C:\\Users\\misae\\AppData\\Local\\Programs\\Julia-1.8.5\\share\\julia\\stdlib\\v1.8\\Pkg\\src\\API.jl:264",
      " [4] add(pkgs::Vector{Pkg.Types.PackageSpec}; io::IJulia.IJuliaStdio{Base.PipeEndpoint}, kwargs::Base.Pairs{Symbol, Union{}, Tuple{}, NamedTuple{(), Tuple{}}})",
      "   @ Pkg.API C:\\Users\\misae\\AppData\\Local\\Programs\\Julia-1.8.5\\share\\julia\\stdlib\\v1.8\\Pkg\\src\\API.jl:156",
      " [5] add(pkgs::Vector{Pkg.Types.PackageSpec})",
      "   @ Pkg.API C:\\Users\\misae\\AppData\\Local\\Programs\\Julia-1.8.5\\share\\julia\\stdlib\\v1.8\\Pkg\\src\\API.jl:145",
      " [6] do_cmd!(command::Pkg.REPLMode.Command, repl::IJulia.MiniREPL)",
      "   @ Pkg.REPLMode C:\\Users\\misae\\AppData\\Local\\Programs\\Julia-1.8.5\\share\\julia\\stdlib\\v1.8\\Pkg\\src\\REPLMode\\REPLMode.jl:409",
      " [7] do_cmd(repl::IJulia.MiniREPL, input::String; do_rethrow::Bool)",
      "   @ Pkg.REPLMode C:\\Users\\misae\\AppData\\Local\\Programs\\Julia-1.8.5\\share\\julia\\stdlib\\v1.8\\Pkg\\src\\REPLMode\\REPLMode.jl:387",
      " [8] top-level scope",
      "   @ In[10]:1"
     ]
    }
   ],
   "source": [
    "] add ThinkJulia"
   ]
  },
  {
   "cell_type": "markdown",
   "id": "59438f86",
   "metadata": {},
   "source": [
    "A diferencia de los paquetes anteriores, parece que `ThinkJulia` no está 'registrado' (lo que sea que eso signifique). Para poder instalar un paquete no registrado, debemos especificar el URL en el que se encuentra. En el caso de ThinkJulia, este paquete se encuentra disponible en un repositorio de GitHub llamado [ThinkJulia.jl](https://github.com/BenLauwens/ThinkJulia.jl)."
   ]
  },
  {
   "cell_type": "code",
   "execution_count": 11,
   "id": "e809afbc",
   "metadata": {},
   "outputs": [
    {
     "name": "stderr",
     "output_type": "stream",
     "text": [
      "\u001b[32m\u001b[1m    Updating\u001b[22m\u001b[39m git-repo `https://github.com/BenLauwens/ThinkJulia.jl`\n",
      "\u001b[32m\u001b[1m   Resolving\u001b[22m\u001b[39m package versions...\n",
      "\u001b[32m\u001b[1m    Updating\u001b[22m\u001b[39m `C:\\Users\\misae\\.julia\\environments\\v1.8\\Project.toml`\n",
      " \u001b[90m [a7f2b756] \u001b[39m\u001b[92m+ ThinkJulia v0.0.0 `https://github.com/BenLauwens/ThinkJulia.jl#master`\u001b[39m\n",
      "\u001b[32m\u001b[1m    Updating\u001b[22m\u001b[39m `C:\\Users\\misae\\.julia\\environments\\v1.8\\Manifest.toml`\n",
      " \u001b[90m [621f4979] \u001b[39m\u001b[92m+ AbstractFFTs v1.2.1\u001b[39m\n",
      " \u001b[90m [79e6a3ab] \u001b[39m\u001b[92m+ Adapt v3.5.0\u001b[39m\n",
      " \u001b[90m [b99e7846] \u001b[39m\u001b[92m+ BinaryProvider v0.5.10\u001b[39m\n",
      " \u001b[90m [159f3aea] \u001b[39m\u001b[92m+ Cairo v1.0.5\u001b[39m\n",
      " \u001b[90m [d360d2e6] \u001b[39m\u001b[92m+ ChainRulesCore v1.15.7\u001b[39m\n",
      " \u001b[90m [9e997f8a] \u001b[39m\u001b[92m+ ChangesOfVariables v0.1.5\u001b[39m\n",
      "\u001b[33m⌅\u001b[39m\u001b[90m [3da002f7] \u001b[39m\u001b[92m+ ColorTypes v0.9.1\u001b[39m\n",
      "\u001b[33m⌅\u001b[39m\u001b[90m [c3611d14] \u001b[39m\u001b[92m+ ColorVectorSpace v0.8.7\u001b[39m\n",
      "\u001b[32m⌃\u001b[39m\u001b[90m [5ae59095] \u001b[39m\u001b[92m+ Colors v0.11.2\u001b[39m\n",
      " \u001b[90m [34da2185] \u001b[39m\u001b[92m+ Compat v4.6.0\u001b[39m\n",
      "\u001b[33m⌅\u001b[39m\u001b[90m [d38c429a] \u001b[39m\u001b[92m+ Contour v0.5.7\u001b[39m\n",
      " \u001b[90m [9a962f9c] \u001b[39m\u001b[92m+ DataAPI v1.14.0\u001b[39m\n",
      " \u001b[90m [864edb3b] \u001b[39m\u001b[92m+ DataStructures v0.18.13\u001b[39m\n",
      " \u001b[90m [ffbed154] \u001b[39m\u001b[92m+ DocStringExtensions v0.9.3\u001b[39m\n",
      "\u001b[33m⌅\u001b[39m\u001b[90m [c87230d0] \u001b[39m\u001b[92m+ FFMPEG v0.3.0\u001b[39m\n",
      " \u001b[90m [5789e2e9] \u001b[39m\u001b[92m+ FileIO v1.16.0\u001b[39m\n",
      "\u001b[33m⌅\u001b[39m\u001b[90m [53c48c17] \u001b[39m\u001b[92m+ FixedPointNumbers v0.7.1\u001b[39m\n",
      "\u001b[33m⌅\u001b[39m\u001b[90m [28b8d3ca] \u001b[39m\u001b[92m+ GR v0.48.0\u001b[39m\n",
      " \u001b[90m [4d00f742] \u001b[39m\u001b[92m+ GeometryTypes v0.8.5\u001b[39m\n",
      " \u001b[90m [a2bd30eb] \u001b[39m\u001b[92m+ Graphics v1.1.2\u001b[39m\n",
      " \u001b[90m [42e2da0e] \u001b[39m\u001b[92m+ Grisu v1.0.2\u001b[39m\n",
      "\u001b[33m⌅\u001b[39m\u001b[90m [a09fc81d] \u001b[39m\u001b[92m+ ImageCore v0.8.22\u001b[39m\n",
      "\u001b[33m⌅\u001b[39m\u001b[90m [6218d12a] \u001b[39m\u001b[92m+ ImageMagick v0.7.9\u001b[39m\n",
      " \u001b[90m [3587e190] \u001b[39m\u001b[92m+ InverseFunctions v0.1.8\u001b[39m\n",
      " \u001b[90m [92d709cd] \u001b[39m\u001b[92m+ IrrationalConstants v0.1.1\u001b[39m\n",
      " \u001b[90m [e5e0dc1b] \u001b[39m\u001b[92m+ Juno v0.8.4\u001b[39m\n",
      " \u001b[90m [b964fa9f] \u001b[39m\u001b[92m+ LaTeXStrings v1.3.0\u001b[39m\n",
      " \u001b[90m [2ab3a3ac] \u001b[39m\u001b[92m+ LogExpFunctions v0.3.20\u001b[39m\n",
      "\u001b[32m⌃\u001b[39m\u001b[90m [ae8d54c2] \u001b[39m\u001b[92m+ Luxor v1.12.0\u001b[39m\n",
      " \u001b[90m [1914dd2f] \u001b[39m\u001b[92m+ MacroTools v0.5.10\u001b[39m\n",
      " \u001b[90m [dbb5928d] \u001b[39m\u001b[92m+ MappedArrays v0.4.1\u001b[39m\n",
      " \u001b[90m [442fdcdd] \u001b[39m\u001b[92m+ Measures v0.3.2\u001b[39m\n",
      " \u001b[90m [e89f7d12] \u001b[39m\u001b[92m+ Media v0.5.0\u001b[39m\n",
      " \u001b[90m [e1d29d7a] \u001b[39m\u001b[92m+ Missings v1.1.0\u001b[39m\n",
      " \u001b[90m [e94cdb99] \u001b[39m\u001b[92m+ MosaicViews v0.3.4\u001b[39m\n",
      "\u001b[33m⌅\u001b[39m\u001b[90m [77ba4419] \u001b[39m\u001b[92m+ NaNMath v0.3.7\u001b[39m\n",
      " \u001b[90m [6fe1bfb0] \u001b[39m\u001b[92m+ OffsetArrays v1.12.9\u001b[39m\n",
      " \u001b[90m [bac558e1] \u001b[39m\u001b[92m+ OrderedCollections v1.4.1\u001b[39m\n",
      " \u001b[90m [5432bcbf] \u001b[39m\u001b[92m+ PaddedViews v0.5.11\u001b[39m\n",
      "\u001b[33m⌅\u001b[39m\u001b[90m [ccf2f8ad] \u001b[39m\u001b[92m+ PlotThemes v1.0.3\u001b[39m\n",
      "\u001b[33m⌅\u001b[39m\u001b[90m [995b91a9] \u001b[39m\u001b[92m+ PlotUtils v0.6.5\u001b[39m\n",
      "\u001b[32m⌃\u001b[39m\u001b[90m [91a5bcdd] \u001b[39m\u001b[92m+ Plots v1.0.14\u001b[39m\n",
      "\u001b[33m⌅\u001b[39m\u001b[90m [dca85d43] \u001b[39m\u001b[92m+ QuartzImageIO v0.6.0\u001b[39m\n",
      " \u001b[90m [3cdcf5f2] \u001b[39m\u001b[92m+ RecipesBase v1.3.3\u001b[39m\n",
      "\u001b[33m⌅\u001b[39m\u001b[90m [01d81517] \u001b[39m\u001b[92m+ RecipesPipeline v0.1.13\u001b[39m\n",
      "\u001b[33m⌅\u001b[39m\u001b[90m [189a3867] \u001b[39m\u001b[92m+ Reexport v0.2.0\u001b[39m\n",
      " \u001b[90m [ae029012] \u001b[39m\u001b[92m+ Requires v1.3.0\u001b[39m\n",
      "\u001b[33m⌅\u001b[39m\u001b[90m [992d4aef] \u001b[39m\u001b[92m+ Showoff v0.3.2\u001b[39m\n",
      " \u001b[90m [a2af1166] \u001b[39m\u001b[92m+ SortingAlgorithms v1.1.0\u001b[39m\n",
      "\u001b[33m⌅\u001b[39m\u001b[90m [276daf66] \u001b[39m\u001b[92m+ SpecialFunctions v1.8.7\u001b[39m\n",
      " \u001b[90m [cae243ae] \u001b[39m\u001b[92m+ StackViews v0.1.1\u001b[39m\n",
      " \u001b[90m [90137ffa] \u001b[39m\u001b[92m+ StaticArrays v1.5.12\u001b[39m\n",
      " \u001b[90m [1e83bf80] \u001b[39m\u001b[92m+ StaticArraysCore v1.4.0\u001b[39m\n",
      " \u001b[90m [82ae8749] \u001b[39m\u001b[92m+ StatsAPI v1.5.0\u001b[39m\n",
      " \u001b[90m [2913bbd2] \u001b[39m\u001b[92m+ StatsBase v0.33.21\u001b[39m\n",
      " \u001b[90m [9ac5f52a] \u001b[39m\u001b[92m+ Tectonic v0.8.0\u001b[39m\n",
      " \u001b[90m [a7f2b756] \u001b[39m\u001b[92m+ ThinkJulia v0.0.0 `https://github.com/BenLauwens/ThinkJulia.jl#master`\u001b[39m\n",
      " \u001b[90m [37f6aa50] \u001b[39m\u001b[92m+ TikzPictures v3.4.2\u001b[39m\n",
      " \u001b[90m [6e34b625] \u001b[39m\u001b[92m+ Bzip2_jll v1.0.8+0\u001b[39m\n",
      " \u001b[90m [83423d85] \u001b[39m\u001b[92m+ Cairo_jll v1.16.1+1\u001b[39m\n",
      " \u001b[90m [2e619515] \u001b[39m\u001b[92m+ Expat_jll v2.4.8+0\u001b[39m\n",
      " \u001b[90m [b22a6f82] \u001b[39m\u001b[92m+ FFMPEG_jll v4.4.2+2\u001b[39m\n",
      " \u001b[90m [a3f928ae] \u001b[39m\u001b[92m+ Fontconfig_jll v2.13.93+0\u001b[39m\n",
      " \u001b[90m [d7e528f0] \u001b[39m\u001b[92m+ FreeType2_jll v2.10.4+0\u001b[39m\n",
      " \u001b[90m [559328eb] \u001b[39m\u001b[92m+ FriBidi_jll v1.0.10+0\u001b[39m\n",
      " \u001b[90m [78b55507] \u001b[39m\u001b[92m+ Gettext_jll v0.21.0+0\u001b[39m\n",
      " \u001b[90m [7746bdde] \u001b[39m\u001b[92m+ Glib_jll v2.74.0+2\u001b[39m\n",
      " \u001b[90m [3b182d85] \u001b[39m\u001b[92m+ Graphite2_jll v1.3.14+0\u001b[39m\n",
      " \u001b[90m [2e76f6c2] \u001b[39m\u001b[92m+ HarfBuzz_jll v2.8.1+1\u001b[39m\n",
      " \u001b[90m [aacddb02] \u001b[39m\u001b[92m+ JpegTurbo_jll v2.1.2+0\u001b[39m\n",
      " \u001b[90m [c1c5ebd0] \u001b[39m\u001b[92m+ LAME_jll v3.100.1+0\u001b[39m\n",
      " \u001b[90m [88015f11] \u001b[39m\u001b[92m+ LERC_jll v3.0.0+1\u001b[39m\n",
      " \u001b[90m [dd4b983a] \u001b[39m\u001b[92m+ LZO_jll v2.10.1+0\u001b[39m\n",
      "\u001b[33m⌅\u001b[39m\u001b[90m [e9f186c6] \u001b[39m\u001b[92m+ Libffi_jll v3.2.2+1\u001b[39m\n",
      " \u001b[90m [d4300ac3] \u001b[39m\u001b[92m+ Libgcrypt_jll v1.8.7+0\u001b[39m\n",
      " \u001b[90m [7add5ba3] \u001b[39m\u001b[92m+ Libgpg_error_jll v1.42.0+0\u001b[39m\n",
      " \u001b[90m [94ce4f54] \u001b[39m\u001b[92m+ Libiconv_jll v1.16.1+2\u001b[39m\n",
      " \u001b[90m [4b2f31a3] \u001b[39m\u001b[92m+ Libmount_jll v2.35.0+0\u001b[39m\n",
      " \u001b[90m [89763e89] \u001b[39m\u001b[92m+ Libtiff_jll v4.4.0+0\u001b[39m\n",
      " \u001b[90m [38a345b3] \u001b[39m\u001b[92m+ Libuuid_jll v2.36.0+0\u001b[39m\n",
      " \u001b[90m [d3a379c0] \u001b[39m\u001b[92m+ LittleCMS_jll v2.12.0+0\u001b[39m\n",
      " \u001b[90m [e7412a2a] \u001b[39m\u001b[92m+ Ogg_jll v1.3.5+1\u001b[39m\n",
      " \u001b[90m [643b3616] \u001b[39m\u001b[92m+ OpenJpeg_jll v2.4.0+0\u001b[39m\n",
      " \u001b[90m [458c3c95] \u001b[39m\u001b[92m+ OpenSSL_jll v1.1.19+0\u001b[39m\n",
      " \u001b[90m [efe28fd5] \u001b[39m\u001b[92m+ OpenSpecFun_jll v0.5.5+0\u001b[39m\n",
      " \u001b[90m [91d4177d] \u001b[39m\u001b[92m+ Opus_jll v1.3.2+0\u001b[39m\n",
      " \u001b[90m [36c8627f] \u001b[39m\u001b[92m+ Pango_jll v1.50.9+0\u001b[39m\n",
      " \u001b[90m [30392449] \u001b[39m\u001b[92m+ Pixman_jll v0.40.1+0\u001b[39m\n",
      "\u001b[33m⌅\u001b[39m\u001b[90m [9c32591e] \u001b[39m\u001b[92m+ Poppler_jll v0.87.0+2\u001b[39m\n",
      " \u001b[90m [02c8fc9c] \u001b[39m\u001b[92m+ XML2_jll v2.10.3+0\u001b[39m\n",
      " \u001b[90m [aed1982a] \u001b[39m\u001b[92m+ XSLT_jll v1.1.34+0\u001b[39m\n",
      " \u001b[90m [4f6342f7] \u001b[39m\u001b[92m+ Xorg_libX11_jll v1.6.9+4\u001b[39m\n",
      " \u001b[90m [0c0b7dd1] \u001b[39m\u001b[92m+ Xorg_libXau_jll v1.0.9+4\u001b[39m\n",
      " \u001b[90m [a3789734] \u001b[39m\u001b[92m+ Xorg_libXdmcp_jll v1.1.3+4\u001b[39m\n",
      " \u001b[90m [1082639a] \u001b[39m\u001b[92m+ Xorg_libXext_jll v1.3.4+4\u001b[39m\n",
      " \u001b[90m [ea2f1a96] \u001b[39m\u001b[92m+ Xorg_libXrender_jll v0.9.10+4\u001b[39m\n",
      " \u001b[90m [14d82f49] \u001b[39m\u001b[92m+ Xorg_libpthread_stubs_jll v0.1.0+3\u001b[39m\n",
      " \u001b[90m [c7cfdc94] \u001b[39m\u001b[92m+ Xorg_libxcb_jll v1.13.0+3\u001b[39m\n",
      " \u001b[90m [c5fb5394] \u001b[39m\u001b[92m+ Xorg_xtrans_jll v1.4.0+3\u001b[39m\n",
      " \u001b[90m [3161d3a3] \u001b[39m\u001b[92m+ Zstd_jll v1.5.2+0\u001b[39m\n",
      " \u001b[90m [a4ae2306] \u001b[39m\u001b[92m+ libaom_jll v3.4.0+0\u001b[39m\n",
      " \u001b[90m [0ac62f75] \u001b[39m\u001b[92m+ libass_jll v0.15.1+0\u001b[39m\n",
      " \u001b[90m [f638f0a6] \u001b[39m\u001b[92m+ libfdk_aac_jll v2.0.2+0\u001b[39m\n",
      " \u001b[90m [b53b4c65] \u001b[39m\u001b[92m+ libpng_jll v1.6.38+0\u001b[39m\n",
      " \u001b[90m [f27f6e37] \u001b[39m\u001b[92m+ libvorbis_jll v1.3.7+1\u001b[39m\n",
      " \u001b[90m [1270edf5] \u001b[39m\u001b[92m+ x264_jll v2021.5.5+0\u001b[39m\n",
      " \u001b[90m [dfaa095f] \u001b[39m\u001b[92m+ x265_jll v3.5.0+0\u001b[39m\n",
      " \u001b[90m [8bb1440f] \u001b[39m\u001b[92m+ DelimitedFiles\u001b[39m\n",
      " \u001b[90m [9abbd945] \u001b[39m\u001b[92m+ Profile\u001b[39m\n",
      " \u001b[90m [2f01184e] \u001b[39m\u001b[92m+ SparseArrays\u001b[39m\n",
      " \u001b[90m [10745b16] \u001b[39m\u001b[92m+ Statistics\u001b[39m\n",
      " \u001b[90m [05823500] \u001b[39m\u001b[92m+ OpenLibm_jll v0.8.1+0\u001b[39m\n",
      " \u001b[90m [efcefdf7] \u001b[39m\u001b[92m+ PCRE2_jll v10.40.0+0\u001b[39m\n",
      "\u001b[36m\u001b[1m        Info\u001b[22m\u001b[39m Packages marked with \u001b[32m⌃\u001b[39m and \u001b[33m⌅\u001b[39m have new versions available, but those with \u001b[33m⌅\u001b[39m are restricted by compatibility constraints from upgrading. To see why use `status --outdated -m`\n"
     ]
    }
   ],
   "source": [
    "] add https://github.com/BenLauwens/ThinkJulia.jl"
   ]
  },
  {
   "cell_type": "markdown",
   "id": "a29013c6",
   "metadata": {},
   "source": [
    "## Recursos complementarios\n",
    "* [Manual de _Code Loading_ de Julia](https://docs.julialang.org/en/v1/manual/code-loading/).\n",
    "* [Manual de Módulos de Julia](https://docs.julialang.org/en/v1/manual/modules/).\n",
    "* [Preguntas frecuentes sobre Módulos y Paquetes en Julia](https://docs.julialang.org/en/v1/manual/faq/#Packages-and-Modules).\n",
    "* [Documentación del administrador de paquetes de Julia `Pkg`](https://docs.julialang.org/en/v1/stdlib/Pkg/)."
   ]
  }
 ],
 "metadata": {
  "kernelspec": {
   "display_name": "Julia 1.8.5",
   "language": "julia",
   "name": "julia-1.8"
  },
  "language_info": {
   "file_extension": ".jl",
   "mimetype": "application/julia",
   "name": "julia",
   "version": "1.8.5"
  }
 },
 "nbformat": 4,
 "nbformat_minor": 5
}
