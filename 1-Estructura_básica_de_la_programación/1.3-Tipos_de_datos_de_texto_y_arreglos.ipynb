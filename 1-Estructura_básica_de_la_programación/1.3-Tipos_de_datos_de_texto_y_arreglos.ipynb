{
 "cells": [
  {
   "cell_type": "markdown",
   "id": "0f785daf",
   "metadata": {},
   "source": [
    "# Tipos de dato de texto y arreglos\n",
    "\n",
    "En este _notebook_ veremos algunos conceptos fundamentales de programación presentes en la mayoría de los lenguajes de alto nivel."
   ]
  },
  {
   "cell_type": "markdown",
   "id": "cc36e7bb",
   "metadata": {},
   "source": [
    "## Tipos de datos de texto\n",
    "\n",
    "Poder trabajar con texto siempre es deseable, pues esta funcionalidad es necesaria para, por ejemplo, poder interactuar con la persona que esté usando el programa, imprimiendo instrucciones en pantalla de qué hacer o pidiéndole que ingrese algunos datos en algún punto de la ejecución del programa.\n",
    "\n",
    "### `Char`\n",
    "\n",
    "El tipo de dato de texto primitivo en Julia es `Char`. Cualquier símbolo envuelto en comillas ' ' será considerado como un dato de tipo `Char`:"
   ]
  },
  {
   "cell_type": "code",
   "execution_count": 1,
   "id": "24db7b73",
   "metadata": {},
   "outputs": [
    {
     "data": {
      "text/plain": [
       "'a': ASCII/Unicode U+0061 (category Ll: Letter, lowercase)"
      ]
     },
     "execution_count": 1,
     "metadata": {},
     "output_type": "execute_result"
    }
   ],
   "source": [
    "'a'"
   ]
  },
  {
   "cell_type": "code",
   "execution_count": 2,
   "id": "dcec22eb",
   "metadata": {},
   "outputs": [
    {
     "data": {
      "text/plain": [
       "Char"
      ]
     },
     "execution_count": 2,
     "metadata": {},
     "output_type": "execute_result"
    }
   ],
   "source": [
    "typeof('a')"
   ]
  },
  {
   "cell_type": "markdown",
   "id": "f0e7c7fa",
   "metadata": {},
   "source": [
    "La primera celda nos revela que Julia interpreta el símbolo `a` según su clave de [Unicode](https://en.wikipedia.org/wiki/Unicode), el cual es un estándar mundial que asigna una clave única a 144,697 caracteres en alrededor de 159 idiomas.\n",
    "\n",
    "Muchos símbolos con clave Unicode que pueden ser escritos con un comando de LaTeX también se pueden escribir en Julia con el mismo comando usando \"auto completación\" con la tecla TAB. Por ejemplo, para escribir $\\alpha$ en el REPL de Julia o en una celda de Jupyter, basta escribir el comando de LaTeX `\\alpha` y luego presionar la tecla TAB:"
   ]
  },
  {
   "cell_type": "code",
   "execution_count": 12,
   "id": "6a750426",
   "metadata": {},
   "outputs": [
    {
     "ename": "LoadError",
     "evalue": "syntax: \"\\\" is not a unary operator",
     "output_type": "error",
     "traceback": [
      "syntax: \"\\\" is not a unary operator",
      "",
      "Stacktrace:",
      " [1] top-level scope",
      "   @ In[12]:1"
     ]
    }
   ],
   "source": [
    "\\alpha# ¡Escribe α al inicio de esta celda (sin copiar y pegar)!"
   ]
  },
  {
   "cell_type": "markdown",
   "id": "1b07844f",
   "metadata": {},
   "source": [
    "La \"auto completación\" significa que si escribimos un comando parcial de LaTeX que Julia puede representar con un caracter Unicode y presionamos la tecla TAB, aparecerá una lista con todos los comandos de LaTeX que empiezan con esas mismas letras y que pueden ser representados por un caracter Unicode."
   ]
  },
  {
   "cell_type": "code",
   "execution_count": 11,
   "id": "d57cd2c5",
   "metadata": {},
   "outputs": [
    {
     "ename": "LoadError",
     "evalue": "syntax: \"\\\" is not a unary operator",
     "output_type": "error",
     "traceback": [
      "syntax: \"\\\" is not a unary operator",
      "",
      "Stacktrace:",
      " [1] top-level scope",
      "   @ In[11]:1"
     ]
    }
   ],
   "source": [
    "\\aleph # Mira las opciones presionando la tecla TAB"
   ]
  },
  {
   "cell_type": "markdown",
   "id": "0fa7834e",
   "metadata": {},
   "source": [
    "Los caracteres que pueden ser representados de esta manera se pueden consultar en la [documentación de Julia](https://docs.julialang.org/en/v1/manual/unicode-input/#Unicode-Input).\n",
    "\n",
    "Es importante recordar que todo símbolo que escribamos entre commillas ' ' será interpretado por Julia como un dato de tipo `Char` por lo que, por ejemplo, el siguiente código no funcionará"
   ]
  },
  {
   "cell_type": "code",
   "execution_count": 13,
   "id": "eba9fc6b",
   "metadata": {},
   "outputs": [
    {
     "ename": "LoadError",
     "evalue": "MethodError: no method matching +(::Char, ::Char)\n\u001b[0mClosest candidates are:\n\u001b[0m  +(::Any, ::Any, \u001b[91m::Any\u001b[39m, \u001b[91m::Any...\u001b[39m) at operators.jl:591\n\u001b[0m  +(::T, \u001b[91m::Integer\u001b[39m) where T<:AbstractChar at char.jl:237\n\u001b[0m  +(\u001b[91m::Integer\u001b[39m, ::AbstractChar) at char.jl:247",
     "output_type": "error",
     "traceback": [
      "MethodError: no method matching +(::Char, ::Char)\n\u001b[0mClosest candidates are:\n\u001b[0m  +(::Any, ::Any, \u001b[91m::Any\u001b[39m, \u001b[91m::Any...\u001b[39m) at operators.jl:591\n\u001b[0m  +(::T, \u001b[91m::Integer\u001b[39m) where T<:AbstractChar at char.jl:237\n\u001b[0m  +(\u001b[91m::Integer\u001b[39m, ::AbstractChar) at char.jl:247",
      "",
      "Stacktrace:",
      " [1] top-level scope",
      "   @ In[13]:1"
     ]
    }
   ],
   "source": [
    "'5' + '3' # Julia los interpreta como Char, no como Int"
   ]
  },
  {
   "cell_type": "markdown",
   "id": "c06ceaf7",
   "metadata": {},
   "source": [
    "pues el operador `+` no está definido para datos de tipo `Char`."
   ]
  },
  {
   "cell_type": "markdown",
   "id": "4e4de5de",
   "metadata": {},
   "source": [
    "### `print` y `println`\n",
    "\n",
    "Las principales funciones para imprimir caracteres en Julia son `print` y `println`. La diferencia entre ellas es que `println` crea una _nueva línea_ después de haber impreso el caracter de su argumento."
   ]
  },
  {
   "cell_type": "code",
   "execution_count": 14,
   "id": "87e182cf",
   "metadata": {},
   "outputs": [
    {
     "name": "stdout",
     "output_type": "stream",
     "text": [
      "a b"
     ]
    }
   ],
   "source": [
    "print('a')\n",
    "print(' ')\n",
    "print('b')\n",
    "# Compara el resultado de esta celda..."
   ]
  },
  {
   "cell_type": "code",
   "execution_count": 15,
   "id": "08cb057c",
   "metadata": {},
   "outputs": [
    {
     "name": "stdout",
     "output_type": "stream",
     "text": [
      "a\n",
      " b"
     ]
    }
   ],
   "source": [
    "# ...con el de ésta.\n",
    "println('a')\n",
    "print(' ')\n",
    "print('b')"
   ]
  },
  {
   "cell_type": "markdown",
   "id": "2e36f9bb",
   "metadata": {},
   "source": [
    "### `String`\n",
    "\n",
    "Trabajar texto siempre a nivel de caracteres resulta impráctico. Para escribir secuencias de caracteres, existe un tipo de dato llamado `String`. Para escribir un dato de tipo `String`, debemos envolver símbolos entre dobles comillas \" \":"
   ]
  },
  {
   "cell_type": "code",
   "execution_count": 16,
   "id": "d96e479d",
   "metadata": {},
   "outputs": [
    {
     "data": {
      "text/plain": [
       "\"¡Hola, mundo!\""
      ]
     },
     "execution_count": 16,
     "metadata": {},
     "output_type": "execute_result"
    }
   ],
   "source": [
    "\"¡Hola, mundo!\""
   ]
  },
  {
   "cell_type": "code",
   "execution_count": 17,
   "id": "9bfe6c65",
   "metadata": {},
   "outputs": [
    {
     "data": {
      "text/plain": [
       "String"
      ]
     },
     "execution_count": 17,
     "metadata": {},
     "output_type": "execute_result"
    }
   ],
   "source": [
    "typeof(\"¡Hola, mundo!\")"
   ]
  },
  {
   "cell_type": "markdown",
   "id": "85fe4080",
   "metadata": {},
   "source": [
    "Podemos utilizar las funciones `print` y `println` con datos de tipo `String` como lo hacíamos con los de tipo `Char`."
   ]
  },
  {
   "cell_type": "code",
   "execution_count": 18,
   "id": "9a9f9928",
   "metadata": {
    "scrolled": true
   },
   "outputs": [
    {
     "name": "stdout",
     "output_type": "stream",
     "text": [
      "¡Hola, mundo!"
     ]
    }
   ],
   "source": [
    "print(\"¡Hola, mundo!\")\n",
    "#= Este programa es típicamente lo primero que alguien aprende a hacer\n",
    "   cuando conoce un nuevo lenguaje de programación de alto nivel =#"
   ]
  },
  {
   "cell_type": "markdown",
   "id": "b6f72cb1",
   "metadata": {},
   "source": [
    "Observamos que los operadores aritméticos tampoco funcionan con datos de tipo `String`:"
   ]
  },
  {
   "cell_type": "code",
   "execution_count": 19,
   "id": "509a8357",
   "metadata": {},
   "outputs": [
    {
     "ename": "LoadError",
     "evalue": "MethodError: no method matching -(::String, ::String)",
     "output_type": "error",
     "traceback": [
      "MethodError: no method matching -(::String, ::String)",
      "",
      "Stacktrace:",
      " [1] top-level scope",
      "   @ In[19]:1"
     ]
    }
   ],
   "source": [
    "\"2.0\" - \"73.1\" # Julia los interpreta como String, no como Float"
   ]
  },
  {
   "cell_type": "markdown",
   "id": "bc9384ff",
   "metadata": {},
   "source": [
    "## Arreglos"
   ]
  },
  {
   "cell_type": "markdown",
   "id": "617370a7",
   "metadata": {},
   "source": [
    "### Matrices\n",
    "\n",
    "En el _notebook_ [`1.1-Operadores_aritméticos_y_tipos_de_datos_numéricos.ipynb`](./1.1-Operadores_aritméticos_y_tipos_de_datos_numéricos.ipynb) vimos cómo hacer operaciones entre números. Sin embargo, dada la utilidad de acomodar números en arreglos -como vectores y matrices- y hacer operaciones entre ellos, existe una implementación de lo anterior en Julia.\n",
    "\n",
    "Un arreglo en Julia es delimitado por corchetes `[]`. Para escribir una matriz, escribimos las entradas de un _vector renglón_ separadas por un espacio y utilizamos el símbolo `;` para crear la siguiente línea e introducir el siguiente vector renglón:"
   ]
  },
  {
   "cell_type": "code",
   "execution_count": 20,
   "id": "57006dcf",
   "metadata": {
    "scrolled": false
   },
   "outputs": [
    {
     "data": {
      "text/plain": [
       "3×3 Matrix{Int64}:\n",
       " 1  2  3\n",
       " 4  5  6\n",
       " 7  8  9"
      ]
     },
     "execution_count": 20,
     "metadata": {},
     "output_type": "execute_result"
    }
   ],
   "source": [
    "[1 2 3 ; 4 5 6 ; 7 8 9]"
   ]
  },
  {
   "cell_type": "markdown",
   "id": "337fc5df",
   "metadata": {},
   "source": [
    "Podemos usar los operadores aritméticos `+`, `-` y `*` para hacer operaciones entre matrices, siempre que las dimensiones coincidan de tal forma que la operacion esté bien definida:"
   ]
  },
  {
   "cell_type": "code",
   "execution_count": 21,
   "id": "cac1f3a8",
   "metadata": {},
   "outputs": [
    {
     "data": {
      "text/plain": [
       "3×3 Matrix{Int64}:\n",
       " 2  2   3\n",
       " 4  5   6\n",
       " 7  9  10"
      ]
     },
     "execution_count": 21,
     "metadata": {},
     "output_type": "execute_result"
    }
   ],
   "source": [
    "[1 2 3 ; 4 5 6 ; 7 8 9] + [1 0 0 ; 0 0 0 ; 0 1 1]"
   ]
  },
  {
   "cell_type": "code",
   "execution_count": 22,
   "id": "77d522e8",
   "metadata": {},
   "outputs": [
    {
     "ename": "LoadError",
     "evalue": "DimensionMismatch: dimensions must match: a has dims (Base.OneTo(2), Base.OneTo(3)), b has dims (Base.OneTo(3), Base.OneTo(3)), mismatch at 1",
     "output_type": "error",
     "traceback": [
      "DimensionMismatch: dimensions must match: a has dims (Base.OneTo(2), Base.OneTo(3)), b has dims (Base.OneTo(3), Base.OneTo(3)), mismatch at 1",
      "",
      "Stacktrace:",
      " [1] promote_shape",
      "   @ .\\indices.jl:178 [inlined]",
      " [2] promote_shape(a::Matrix{Int64}, b::Matrix{Int64})",
      "   @ Base .\\indices.jl:169",
      " [3] -(A::Matrix{Int64}, B::Matrix{Int64})",
      "   @ Base .\\arraymath.jl:7",
      " [4] top-level scope",
      "   @ In[22]:1"
     ]
    }
   ],
   "source": [
    "[1 2 3 ; 4 5 6] - [1 0 0 ; 0 0 0 ; 0 1 1]\n",
    "# Obtenemos un error porque las dimensiones no coindicen"
   ]
  },
  {
   "cell_type": "code",
   "execution_count": 23,
   "id": "c28004ae",
   "metadata": {},
   "outputs": [
    {
     "data": {
      "text/plain": [
       "2×2 Matrix{Int64}:\n",
       " 22  28\n",
       " 49  64"
      ]
     },
     "execution_count": 23,
     "metadata": {},
     "output_type": "execute_result"
    }
   ],
   "source": [
    "[1 2 3 ; 4 5 6] * [1 2 ; 3 4 ; 5 6]\n",
    "#= En este ejemplo, a pesar de que las dimensiones difieran, ¡lo hacen de\n",
    "   tal forma que la multiplicación de las matrices esté bien definida! =#"
   ]
  },
  {
   "cell_type": "markdown",
   "id": "9ac3bf08",
   "metadata": {},
   "source": [
    "Más aún, el operador `*` se puede usar para multiplicar una matriz por un escalar:"
   ]
  },
  {
   "cell_type": "code",
   "execution_count": 24,
   "id": "cc8a7831",
   "metadata": {
    "scrolled": true
   },
   "outputs": [
    {
     "data": {
      "text/plain": [
       "3×3 Matrix{Int64}:\n",
       "  5  10  15\n",
       " 20  25  30\n",
       " 35  40  45"
      ]
     },
     "execution_count": 24,
     "metadata": {},
     "output_type": "execute_result"
    }
   ],
   "source": [
    "5 * [1 2 3 ; 4 5 6 ; 7 8 9]"
   ]
  },
  {
   "cell_type": "code",
   "execution_count": 25,
   "id": "ce0db540",
   "metadata": {},
   "outputs": [
    {
     "data": {
      "text/plain": [
       "3×3 Matrix{Int64}:\n",
       "  5  10  15\n",
       " 20  25  30\n",
       " 35  40  45"
      ]
     },
     "execution_count": 25,
     "metadata": {},
     "output_type": "execute_result"
    }
   ],
   "source": [
    "[1 2 3 ; 4 5 6 ; 7 8 9] * 5"
   ]
  },
  {
   "cell_type": "markdown",
   "id": "52e55178",
   "metadata": {},
   "source": [
    "Sin embargo, esto falla para otros tipos de operaciones:"
   ]
  },
  {
   "cell_type": "code",
   "execution_count": 26,
   "id": "d079c415",
   "metadata": {},
   "outputs": [
    {
     "ename": "LoadError",
     "evalue": "MethodError: no method matching +(::Matrix{Int64}, ::Int64)\nFor element-wise addition, use broadcasting with dot syntax: array .+ scalar\n\u001b[0mClosest candidates are:\n\u001b[0m  +(::Any, ::Any, \u001b[91m::Any\u001b[39m, \u001b[91m::Any...\u001b[39m) at operators.jl:591\n\u001b[0m  +(\u001b[91m::T\u001b[39m, ::T) where T<:Union{Int128, Int16, Int32, Int64, Int8, UInt128, UInt16, UInt32, UInt64, UInt8} at int.jl:87\n\u001b[0m  +(\u001b[91m::Rational\u001b[39m, ::Integer) at rational.jl:313\n\u001b[0m  ...",
     "output_type": "error",
     "traceback": [
      "MethodError: no method matching +(::Matrix{Int64}, ::Int64)\nFor element-wise addition, use broadcasting with dot syntax: array .+ scalar\n\u001b[0mClosest candidates are:\n\u001b[0m  +(::Any, ::Any, \u001b[91m::Any\u001b[39m, \u001b[91m::Any...\u001b[39m) at operators.jl:591\n\u001b[0m  +(\u001b[91m::T\u001b[39m, ::T) where T<:Union{Int128, Int16, Int32, Int64, Int8, UInt128, UInt16, UInt32, UInt64, UInt8} at int.jl:87\n\u001b[0m  +(\u001b[91m::Rational\u001b[39m, ::Integer) at rational.jl:313\n\u001b[0m  ...",
      "",
      "Stacktrace:",
      " [1] top-level scope",
      "   @ In[26]:1"
     ]
    }
   ],
   "source": [
    "[1 2 3 ; 4 5 6 ; 7 8 9] + 5 # Esto nos devolverá un mensaje de error"
   ]
  },
  {
   "cell_type": "markdown",
   "id": "903d5e1c",
   "metadata": {},
   "source": [
    "Si queremos aplicar un operador a _cada una de las entradas de un arreglo_, generalmente funciona colocar un punto `.` antes del operador, como en los ejemplos siguientes:"
   ]
  },
  {
   "cell_type": "code",
   "execution_count": 27,
   "id": "83f5acd9",
   "metadata": {},
   "outputs": [
    {
     "data": {
      "text/plain": [
       "3×3 Matrix{Int64}:\n",
       "  6   7   8\n",
       "  9  10  11\n",
       " 12  13  14"
      ]
     },
     "execution_count": 27,
     "metadata": {},
     "output_type": "execute_result"
    }
   ],
   "source": [
    "[1 2 3 ; 4 5 6 ; 7 8 9] .+ 5 # Esto suma 5 a cada entrada de la matriz"
   ]
  },
  {
   "cell_type": "code",
   "execution_count": 28,
   "id": "d055d4a3",
   "metadata": {},
   "outputs": [
    {
     "data": {
      "text/plain": [
       "1×3 Matrix{Float64}:\n",
       " 5.0  2.5  6.2"
      ]
     },
     "execution_count": 28,
     "metadata": {},
     "output_type": "execute_result"
    }
   ],
   "source": [
    "[6.0 3.5 7.2] .- 1 # Esto resta el flotante 1.0 a cada entrada del vector"
   ]
  },
  {
   "cell_type": "markdown",
   "id": "46893b73",
   "metadata": {},
   "source": [
    "**Nota** A pesar de que en este caso utilicemos los operadores aritméticos para hacer operaciones entre _arreglos de números_ en vez de sólo números, estos tienen la misma precedencia y asociatividad que discutimos en el _notebook_ [`1.1-Operadores_aritméticos_y_tipos_de_datos_numéricos.ipynb`](./1.1-Operadores_aritméticos_y_tipos_de_datos_numéricos.ipynb)."
   ]
  },
  {
   "cell_type": "markdown",
   "id": "63308d7c",
   "metadata": {},
   "source": [
    "**Ejercicio** ¿Qué tipo de dato tiene la matriz `[1 2 3 ; 4 5 6 ; 7 8 9]`? ¿Es un tipo de dato primitivo o compuesto? Los elementos de la matriz son primitivos (Int64), la matriz por completo sería de tipo compuesto."
   ]
  },
  {
   "cell_type": "code",
   "execution_count": 29,
   "id": "261485b7",
   "metadata": {},
   "outputs": [
    {
     "data": {
      "text/plain": [
       "Matrix{Int64}\u001b[90m (alias for \u001b[39m\u001b[90mArray{Int64, 2}\u001b[39m\u001b[90m)\u001b[39m"
      ]
     },
     "execution_count": 29,
     "metadata": {},
     "output_type": "execute_result"
    }
   ],
   "source": [
    "typeof([1 2 3 ; 4 5 6 ; 7 8 9]) # ¿Recuerdas qué función usar para averiguar esto?"
   ]
  },
  {
   "cell_type": "markdown",
   "id": "76e05395",
   "metadata": {},
   "source": [
    "**Nota** Es importante separar las entradas de las matrices con espacios pues, de lo contario, Julia las intentará interpretar como cifras de un mismo número. Sin embargo, el separador de renglones `;` no necesita que dejemos espacios antes ni después de él; aún así, recomendamos esta práctica para tener mayor claridad y legibilidad. "
   ]
  },
  {
   "cell_type": "markdown",
   "id": "d5d6761d",
   "metadata": {},
   "source": [
    "### Vectores\n",
    "\n",
    "Siguiendo la discusión anterior, si quisiéramos escribir a un vector al cual le podamos aplicar una matriz con el operador `*`, tendríamos que escribirlo como un _vector columna_, es decir, una matriz de una sola columna."
   ]
  },
  {
   "cell_type": "code",
   "execution_count": 30,
   "id": "206beb31",
   "metadata": {},
   "outputs": [
    {
     "data": {
      "text/plain": [
       "3-element Vector{Int64}:\n",
       " 1\n",
       " 2\n",
       " 3"
      ]
     },
     "execution_count": 30,
     "metadata": {},
     "output_type": "execute_result"
    }
   ],
   "source": [
    "[1 ; 2 ; 3]"
   ]
  },
  {
   "cell_type": "code",
   "execution_count": 31,
   "id": "15d43c36",
   "metadata": {},
   "outputs": [
    {
     "data": {
      "text/plain": [
       "3-element Vector{Int64}:\n",
       " 1\n",
       " 2\n",
       " 3"
      ]
     },
     "execution_count": 31,
     "metadata": {},
     "output_type": "execute_result"
    }
   ],
   "source": [
    "[1 0 0 ; 0 1 0 ; 0 0 1] * [1 ; 2 ; 3] # Aplicando la matriz identidad de 3x3"
   ]
  },
  {
   "cell_type": "markdown",
   "id": "31b4d29a",
   "metadata": {},
   "source": [
    "Una forma equivalente de escribir vectores es separando cada entrada con un símbolo de coma `,`:"
   ]
  },
  {
   "cell_type": "code",
   "execution_count": 32,
   "id": "7b385587",
   "metadata": {},
   "outputs": [
    {
     "data": {
      "text/plain": [
       "3-element Vector{Int64}:\n",
       " 1\n",
       " 2\n",
       " 3"
      ]
     },
     "execution_count": 32,
     "metadata": {},
     "output_type": "execute_result"
    }
   ],
   "source": [
    "[1, 2, 3]"
   ]
  },
  {
   "cell_type": "code",
   "execution_count": 33,
   "id": "43e3f681",
   "metadata": {},
   "outputs": [
    {
     "data": {
      "text/plain": [
       "3-element Vector{Int64}:\n",
       " 1\n",
       " 2\n",
       " 3"
      ]
     },
     "execution_count": 33,
     "metadata": {},
     "output_type": "execute_result"
    }
   ],
   "source": [
    "[1 0 0 ; 0 1 0 ; 0 0 1] * [1, 2, 3]"
   ]
  },
  {
   "cell_type": "markdown",
   "id": "a352f1a3",
   "metadata": {},
   "source": [
    "Es decir, si escribimos un arreglo de números separados por comas como `[a, b, c, d]`, Julia lo interpretará como el vector columna con entradas `a`, `b`, `c` y `d`, equivalente a la matriz de una sola columna `[a ; b ; c ; d]`."
   ]
  },
  {
   "cell_type": "markdown",
   "id": "d9d566fc",
   "metadata": {},
   "source": [
    "**Ejercicio** ¿Qué tipo de dato tiene el vector `[6.0, 3.5, 7.2]`? Compuesto."
   ]
  },
  {
   "cell_type": "code",
   "execution_count": 34,
   "id": "8d9420d1",
   "metadata": {},
   "outputs": [
    {
     "data": {
      "text/plain": [
       "3-element Vector{Float64}:\n",
       " 6.0\n",
       " 3.5\n",
       " 7.2"
      ]
     },
     "execution_count": 34,
     "metadata": {},
     "output_type": "execute_result"
    }
   ],
   "source": [
    "[6.0, 3.5, 7.2]"
   ]
  },
  {
   "cell_type": "code",
   "execution_count": 35,
   "id": "d53211c0",
   "metadata": {},
   "outputs": [
    {
     "data": {
      "text/plain": [
       "Vector{Float64}\u001b[90m (alias for \u001b[39m\u001b[90mArray{Float64, 1}\u001b[39m\u001b[90m)\u001b[39m"
      ]
     },
     "execution_count": 35,
     "metadata": {},
     "output_type": "execute_result"
    }
   ],
   "source": [
    "typeof([6.0, 3.5, 7.2])"
   ]
  },
  {
   "cell_type": "code",
   "execution_count": 36,
   "id": "7ff3d0a1",
   "metadata": {},
   "outputs": [
    {
     "data": {
      "text/plain": [
       "3×3 Matrix{Int64}:\n",
       " 1  2  3\n",
       " 4  5  6\n",
       " 7  8  9"
      ]
     },
     "execution_count": 36,
     "metadata": {},
     "output_type": "execute_result"
    }
   ],
   "source": [
    "[1 2 3 ; 4 5 6 ; 7 8 9]"
   ]
  },
  {
   "cell_type": "code",
   "execution_count": 37,
   "id": "ba073e25",
   "metadata": {},
   "outputs": [
    {
     "data": {
      "text/plain": [
       "Matrix{Int64}\u001b[90m (alias for \u001b[39m\u001b[90mArray{Int64, 2}\u001b[39m\u001b[90m)\u001b[39m"
      ]
     },
     "execution_count": 37,
     "metadata": {},
     "output_type": "execute_result"
    }
   ],
   "source": [
    "typeof([1 2 3 ; 4 5 6 ; 7 8 9])"
   ]
  },
  {
   "cell_type": "markdown",
   "id": "b67af3aa",
   "metadata": {},
   "source": [
    "### Índices y subarreglos\n",
    "\n",
    "¿Qué hacemos si queremos acceder al valor de alguna entrada específica de un vector? Julia le asigna a cada entrada de un vector un _índice_ que **empieza por el número `1`**. Para acceder a la $i$-ésima entrada de un vector, debemos escribir `[i]` a la derecha del vector _sin dejar espacio_: "
   ]
  },
  {
   "cell_type": "code",
   "execution_count": 38,
   "id": "79417565",
   "metadata": {},
   "outputs": [
    {
     "data": {
      "text/plain": [
       "10"
      ]
     },
     "execution_count": 38,
     "metadata": {},
     "output_type": "execute_result"
    }
   ],
   "source": [
    "[10, 8, 5][1]"
   ]
  },
  {
   "cell_type": "code",
   "execution_count": 39,
   "id": "adfa59f8",
   "metadata": {},
   "outputs": [
    {
     "data": {
      "text/plain": [
       "8"
      ]
     },
     "execution_count": 39,
     "metadata": {},
     "output_type": "execute_result"
    }
   ],
   "source": [
    "[10, 8, 5][2]"
   ]
  },
  {
   "cell_type": "code",
   "execution_count": 41,
   "id": "5ebfd884",
   "metadata": {},
   "outputs": [
    {
     "data": {
      "text/plain": [
       "5"
      ]
     },
     "execution_count": 41,
     "metadata": {},
     "output_type": "execute_result"
    }
   ],
   "source": [
    "[10, 8, 5][3] # Obtenemos un error inicialmente por haber dejado un espacio"
   ]
  },
  {
   "cell_type": "markdown",
   "id": "9fd17b15",
   "metadata": {},
   "source": [
    "**Ejercicio** Averigua qué sucede cuando intentamos acceder a la $i$-ésima entrada de la siguiente matriz:"
   ]
  },
  {
   "cell_type": "code",
   "execution_count": 44,
   "id": "475a00e3",
   "metadata": {},
   "outputs": [
    {
     "data": {
      "text/plain": [
       "8"
      ]
     },
     "execution_count": 44,
     "metadata": {},
     "output_type": "execute_result"
    }
   ],
   "source": [
    "[1 2 3 ; 4 5 6 ; 7 8 9][6]"
   ]
  },
  {
   "cell_type": "markdown",
   "id": "adf5d84a",
   "metadata": {},
   "source": [
    "Una manera más sencilla de acceder a la entrada del renglón $i$ y columna $j$ de una matriz es utilizando la sintáxis `[i,j]`:"
   ]
  },
  {
   "cell_type": "code",
   "execution_count": 45,
   "id": "e226bdc3",
   "metadata": {},
   "outputs": [
    {
     "data": {
      "text/plain": [
       "5"
      ]
     },
     "execution_count": 45,
     "metadata": {},
     "output_type": "execute_result"
    }
   ],
   "source": [
    "[1 2 3 ; 4 5 6 ; 7 8 9][2,2]"
   ]
  },
  {
   "cell_type": "code",
   "execution_count": 46,
   "id": "d471494a",
   "metadata": {},
   "outputs": [
    {
     "data": {
      "text/plain": [
       "7"
      ]
     },
     "execution_count": 46,
     "metadata": {},
     "output_type": "execute_result"
    }
   ],
   "source": [
    "[1 2 3 ; 4 5 6 ; 7 8 9][3,1]"
   ]
  },
  {
   "cell_type": "markdown",
   "id": "9b4e36ad",
   "metadata": {},
   "source": [
    "Nuestra siguiente pregunta es: ¿qué hacemos si queremos acceder a algún _vector renglón_ o _vector columna_ de una matriz? Para acceder al $i$-ésimo vector renglón, utilizamos la sintáxis `[i,:]`:"
   ]
  },
  {
   "cell_type": "code",
   "execution_count": 47,
   "id": "2eec926e",
   "metadata": {},
   "outputs": [
    {
     "data": {
      "text/plain": [
       "7"
      ]
     },
     "execution_count": 47,
     "metadata": {},
     "output_type": "execute_result"
    }
   ],
   "source": [
    "[1 2 3 ; 4 5 6 ; 7 8 9][3]   # Compara el resultado de esta celda..."
   ]
  },
  {
   "cell_type": "code",
   "execution_count": 48,
   "id": "0d44a563",
   "metadata": {},
   "outputs": [
    {
     "data": {
      "text/plain": [
       "3-element Vector{Int64}:\n",
       " 7\n",
       " 8\n",
       " 9"
      ]
     },
     "execution_count": 48,
     "metadata": {},
     "output_type": "execute_result"
    }
   ],
   "source": [
    "[1 2 3 ; 4 5 6 ; 7 8 9][3,:] # ...con el de ésta."
   ]
  },
  {
   "cell_type": "markdown",
   "id": "78cd711b",
   "metadata": {},
   "source": [
    "Análogamente, para acceder al `j`-ésimo vector columna, utilizamos la sintáxis `[:,j]`:"
   ]
  },
  {
   "cell_type": "code",
   "execution_count": 49,
   "id": "255a1abd",
   "metadata": {},
   "outputs": [
    {
     "data": {
      "text/plain": [
       "3-element Vector{Int64}:\n",
       " 3\n",
       " 6\n",
       " 9"
      ]
     },
     "execution_count": 49,
     "metadata": {},
     "output_type": "execute_result"
    }
   ],
   "source": [
    "[1 2 3 ; 4 5 6 ; 7 8 9][:,3]"
   ]
  },
  {
   "cell_type": "markdown",
   "id": "3f1def08",
   "metadata": {},
   "source": [
    "Puedes pensar que el símbolo `:` significa \"todos los valores posibles\" en la entrada correspondiente de `[i,j]`. La razón de esto quedará clara cuando veamos _rangos_.\n",
    "\n",
    "Los ejemplos anteriores muestran que un arreglo contiene _subarreglos_ a los cuales podemos acceder. Más generalmente, para obtener un arreglo con las entradas $i$, $j$ y $k$ de otro arreglo, podemos utilizar la sintáxis `[[i,j,k]]`:"
   ]
  },
  {
   "cell_type": "code",
   "execution_count": 50,
   "id": "7dd440df",
   "metadata": {},
   "outputs": [
    {
     "data": {
      "text/plain": [
       "3-element Vector{Int64}:\n",
       " 1\n",
       " 5\n",
       " 9"
      ]
     },
     "execution_count": 50,
     "metadata": {},
     "output_type": "execute_result"
    }
   ],
   "source": [
    "[1, 3, 5, 7, 9][[1,3,5]]"
   ]
  },
  {
   "cell_type": "markdown",
   "id": "2ccc7e68",
   "metadata": {},
   "source": [
    "Notamos que en este caso en vez de escribir un sólo índice dentro de los corchetes `[]`, escribimos un _arreglo de índices_, obteniendo como resultado el _subarreglo_ que se obtiene con las entradas correspondientes a esos índices."
   ]
  },
  {
   "cell_type": "markdown",
   "id": "33bc3b1b",
   "metadata": {},
   "source": [
    "### `String` como arreglos de `Char`\n",
    "\n",
    "Los datos de tipo `String` en realidad son arreglos de datos de tipo `Char`, por lo que podemos acceder a cualquiera de sus entradas (que serán datos de tipo `Char`) o de sus subarreglos (que serán de tipo `String`):"
   ]
  },
  {
   "cell_type": "code",
   "execution_count": 51,
   "id": "462cb71a",
   "metadata": {},
   "outputs": [
    {
     "data": {
      "text/plain": [
       "\"¡Hola, mundo!\""
      ]
     },
     "execution_count": 51,
     "metadata": {},
     "output_type": "execute_result"
    }
   ],
   "source": [
    "\"¡Hola, mundo!\""
   ]
  },
  {
   "cell_type": "markdown",
   "id": "f18c8235",
   "metadata": {},
   "source": [
    "**Ejercicio** ¿Cuántas palabras puedes formar con las letras de la frase \"¡Hola, mundo!\"? Obten los _Strings_ correspondientes accediendo a subarreglos del `String` `\"¡Hola, mundo!\"`."
   ]
  },
  {
   "cell_type": "code",
   "execution_count": 52,
   "id": "c5d2e15c",
   "metadata": {},
   "outputs": [
    {
     "data": {
      "text/plain": [
       "\"ola\""
      ]
     },
     "execution_count": 52,
     "metadata": {},
     "output_type": "execute_result"
    }
   ],
   "source": [
    "\"Hola, mundo\"[[2,3,4]]"
   ]
  },
  {
   "cell_type": "code",
   "execution_count": 53,
   "id": "7fe3e5b6",
   "metadata": {},
   "outputs": [
    {
     "data": {
      "text/plain": [
       "\"moda\""
      ]
     },
     "execution_count": 53,
     "metadata": {},
     "output_type": "execute_result"
    }
   ],
   "source": [
    "\"Hola, mundo\"[[7,2,10,4]]"
   ]
  },
  {
   "cell_type": "code",
   "execution_count": 54,
   "id": "c02c02ba",
   "metadata": {},
   "outputs": [
    {
     "data": {
      "text/plain": [
       "\"domo\""
      ]
     },
     "execution_count": 54,
     "metadata": {},
     "output_type": "execute_result"
    }
   ],
   "source": [
    "\"Hola, mundo\"[[10,2,7,11]]"
   ]
  },
  {
   "cell_type": "code",
   "execution_count": 55,
   "id": "22225436",
   "metadata": {},
   "outputs": [
    {
     "data": {
      "text/plain": [
       "\"mula\""
      ]
     },
     "execution_count": 55,
     "metadata": {},
     "output_type": "execute_result"
    }
   ],
   "source": [
    "\"Hola, mundo\"[[7,8,3,4]]"
   ]
  },
  {
   "cell_type": "code",
   "execution_count": 56,
   "id": "181b2947",
   "metadata": {},
   "outputs": [
    {
     "data": {
      "text/plain": [
       "\"nudo\""
      ]
     },
     "execution_count": 56,
     "metadata": {},
     "output_type": "execute_result"
    }
   ],
   "source": [
    "\"Hola, mundo\"[[9,8,10,2]]"
   ]
  },
  {
   "cell_type": "code",
   "execution_count": 57,
   "id": "d5d5521d",
   "metadata": {},
   "outputs": [
    {
     "data": {
      "text/plain": [
       "\"mudo\""
      ]
     },
     "execution_count": 57,
     "metadata": {},
     "output_type": "execute_result"
    }
   ],
   "source": [
    "\"Hola, mundo\"[[7,8,10,2]]"
   ]
  },
  {
   "cell_type": "code",
   "execution_count": 58,
   "id": "d5e13972",
   "metadata": {},
   "outputs": [
    {
     "data": {
      "text/plain": [
       "\"duna\""
      ]
     },
     "execution_count": 58,
     "metadata": {},
     "output_type": "execute_result"
    }
   ],
   "source": [
    "\"Hola, mundo\"[[10,8,9,4]]"
   ]
  },
  {
   "cell_type": "code",
   "execution_count": 59,
   "id": "eef1ce47",
   "metadata": {},
   "outputs": [
    {
     "data": {
      "text/plain": [
       "\"nulo\""
      ]
     },
     "execution_count": 59,
     "metadata": {},
     "output_type": "execute_result"
    }
   ],
   "source": [
    "\"Hola, mundo\"[[9,8,3,2]]"
   ]
  },
  {
   "cell_type": "code",
   "execution_count": 60,
   "id": "271885ef",
   "metadata": {},
   "outputs": [
    {
     "data": {
      "text/plain": [
       "\"mundano\""
      ]
     },
     "execution_count": 60,
     "metadata": {},
     "output_type": "execute_result"
    }
   ],
   "source": [
    "\"Hola, mundo\"[[7,8,9,10,4,9,2]]"
   ]
  },
  {
   "cell_type": "code",
   "execution_count": 61,
   "id": "82cf4a93",
   "metadata": {},
   "outputs": [
    {
     "data": {
      "text/plain": [
       "\"lado\""
      ]
     },
     "execution_count": 61,
     "metadata": {},
     "output_type": "execute_result"
    }
   ],
   "source": [
    "\"Hola, mundo\"[[3,4,10,11]]"
   ]
  },
  {
   "cell_type": "code",
   "execution_count": 62,
   "id": "53061291",
   "metadata": {},
   "outputs": [
    {
     "data": {
      "text/plain": [
       "\"Hondo\""
      ]
     },
     "execution_count": 62,
     "metadata": {},
     "output_type": "execute_result"
    }
   ],
   "source": [
    "\"Hola, mundo\"[[1,2,9,10,11]]"
   ]
  },
  {
   "cell_type": "code",
   "execution_count": 63,
   "id": "1707b67c",
   "metadata": {},
   "outputs": [
    {
     "data": {
      "text/plain": [
       "\"Humo\""
      ]
     },
     "execution_count": 63,
     "metadata": {},
     "output_type": "execute_result"
    }
   ],
   "source": [
    "\"Hola, mundo\"[[1,8,7,2]]"
   ]
  },
  {
   "cell_type": "code",
   "execution_count": 65,
   "id": "70b9c149",
   "metadata": {},
   "outputs": [
    {
     "data": {
      "text/plain": [
       "\"modo\""
      ]
     },
     "execution_count": 65,
     "metadata": {},
     "output_type": "execute_result"
    }
   ],
   "source": [
    "\"Hola, mundo\"[[7,2,10,11]]"
   ]
  },
  {
   "cell_type": "code",
   "execution_count": 66,
   "id": "70826c18",
   "metadata": {},
   "outputs": [
    {
     "data": {
      "text/plain": [
       "\"doHa\""
      ]
     },
     "execution_count": 66,
     "metadata": {},
     "output_type": "execute_result"
    }
   ],
   "source": [
    "\"Hola, mundo\"[[10,2,1,4]]"
   ]
  },
  {
   "cell_type": "code",
   "execution_count": 67,
   "id": "e6c1b3c4",
   "metadata": {},
   "outputs": [
    {
     "data": {
      "text/plain": [
       "\"unam\""
      ]
     },
     "execution_count": 67,
     "metadata": {},
     "output_type": "execute_result"
    }
   ],
   "source": [
    "\"Hola, mundo\"[[8,9,4,7]]"
   ]
  },
  {
   "cell_type": "code",
   "execution_count": 68,
   "id": "785897d1",
   "metadata": {},
   "outputs": [
    {
     "data": {
      "text/plain": [
       "\"alamo\""
      ]
     },
     "execution_count": 68,
     "metadata": {},
     "output_type": "execute_result"
    }
   ],
   "source": [
    "\"Hola, mundo\"[[4,3,4,7,2]]"
   ]
  },
  {
   "cell_type": "code",
   "execution_count": 69,
   "id": "fec48323",
   "metadata": {},
   "outputs": [
    {
     "data": {
      "text/plain": [
       "\"Hulu\""
      ]
     },
     "execution_count": 69,
     "metadata": {},
     "output_type": "execute_result"
    }
   ],
   "source": [
    "\"Hola, mundo\"[[1,8,3,8]]"
   ]
  },
  {
   "cell_type": "code",
   "execution_count": 70,
   "id": "835d3899",
   "metadata": {},
   "outputs": [
    {
     "data": {
      "text/plain": [
       "\"mando\""
      ]
     },
     "execution_count": 70,
     "metadata": {},
     "output_type": "execute_result"
    }
   ],
   "source": [
    "\"Hola, mundo\"[[7,4,9,10,11]]"
   ]
  },
  {
   "cell_type": "code",
   "execution_count": 71,
   "id": "2d46fc7c",
   "metadata": {},
   "outputs": [
    {
     "data": {
      "text/plain": [
       "\"amado\""
      ]
     },
     "execution_count": 71,
     "metadata": {},
     "output_type": "execute_result"
    }
   ],
   "source": [
    "\"Hola, mundo\"[[4,7,4,10,11]]"
   ]
  },
  {
   "cell_type": "code",
   "execution_count": 72,
   "id": "3fbcc9ff",
   "metadata": {},
   "outputs": [
    {
     "data": {
      "text/plain": [
       "\"dolo\""
      ]
     },
     "execution_count": 72,
     "metadata": {},
     "output_type": "execute_result"
    }
   ],
   "source": [
    "\"Hola, mundo\"[[10,11,3,2]]"
   ]
  },
  {
   "cell_type": "code",
   "execution_count": 73,
   "id": "51cf4393",
   "metadata": {},
   "outputs": [
    {
     "data": {
      "text/plain": [
       "\"nomada\""
      ]
     },
     "execution_count": 73,
     "metadata": {},
     "output_type": "execute_result"
    }
   ],
   "source": [
    "\"Hola, mundo\"[[9,11,7,4,10,4]]"
   ]
  },
  {
   "cell_type": "code",
   "execution_count": 74,
   "id": "eda567b9",
   "metadata": {},
   "outputs": [
    {
     "data": {
      "text/plain": [
       "\"duda\""
      ]
     },
     "execution_count": 74,
     "metadata": {},
     "output_type": "execute_result"
    }
   ],
   "source": [
    "\"Hola, mundo\"[[10,8,10,4]]"
   ]
  },
  {
   "cell_type": "code",
   "execution_count": 75,
   "id": "de6eaefd",
   "metadata": {},
   "outputs": [
    {
     "data": {
      "text/plain": [
       "\"dado\""
      ]
     },
     "execution_count": 75,
     "metadata": {},
     "output_type": "execute_result"
    }
   ],
   "source": [
    "\"Hola, mundo\"[[10,4,10,2]]"
   ]
  },
  {
   "cell_type": "code",
   "execution_count": 76,
   "id": "a457cc76",
   "metadata": {},
   "outputs": [
    {
     "data": {
      "text/plain": [
       "\"malo\""
      ]
     },
     "execution_count": 76,
     "metadata": {},
     "output_type": "execute_result"
    }
   ],
   "source": [
    "\"Hola, mundo\"[[7,4,3,11]]"
   ]
  },
  {
   "cell_type": "markdown",
   "id": "6dfbf469",
   "metadata": {},
   "source": [
    "### `length`"
   ]
  },
  {
   "cell_type": "code",
   "execution_count": null,
   "id": "f631e7eb",
   "metadata": {},
   "outputs": [],
   "source": []
  },
  {
   "cell_type": "markdown",
   "id": "616ffc26",
   "metadata": {},
   "source": [
    "## Recursos complementarios\n",
    "\n",
    "Documentación de Julia:\n",
    "* [Manual de arreglos](https://docs.julialang.org/en/v1/manual/arrays/),\n",
    "* [Manual de `String`s](https://docs.julialang.org/en/v1/manual/strings/),\n",
    "* [Documentación de arreglos](https://docs.julialang.org/en/v1/base/arrays/#Concatenation-and-permutation)."
   ]
  }
 ],
 "metadata": {
  "kernelspec": {
   "display_name": "Julia 1.8.5",
   "language": "julia",
   "name": "julia-1.8"
  },
  "language_info": {
   "file_extension": ".jl",
   "mimetype": "application/julia",
   "name": "julia",
   "version": "1.8.5"
  }
 },
 "nbformat": 4,
 "nbformat_minor": 5
}
